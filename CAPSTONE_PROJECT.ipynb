{
 "cells": [
  {
   "attachments": {},
   "cell_type": "markdown",
   "id": "8fded2c5",
   "metadata": {},
   "source": [
    "<center><span style=\"font-size:35px; font-weight:bold; \">Airfare Analyzer(Predicting Flight Ticket Prices)</span></center>"
   ]
  },
  {
   "cell_type": "markdown",
   "id": "5c94d044",
   "metadata": {},
   "source": [
    "## Introduction\n",
    "\n",
    "The **\"Flight Fare Prediction\"** machine learning project aims to accurately estimate airline ticket prices using relevant attributes such as date, airline, flight codes, departure/arrival times, duration, stops, source/destination, and existing prices. By leveraging machine learning algorithms, we can develop a robust model that assists travelers in making informed decisions and helps airlines optimize their pricing strategies. This project addresses the complex task of predicting flight fares, benefiting both travelers and airlines by providing accurate fare forecasts based on historical data and relevant factors."
   ]
  },
  {
   "cell_type": "markdown",
   "id": "3763672a",
   "metadata": {},
   "source": [
    "<center><img src=\"flight.jpg\"></center>"
   ]
  },
  {
   "cell_type": "markdown",
   "id": "8992eda0",
   "metadata": {},
   "source": [
    "## About Dataset"
   ]
  },
  {
   "cell_type": "markdown",
   "id": "391ac088",
   "metadata": {},
   "source": [
    "1. **Date:** The date of the journey.\n",
    "    \n",
    "2. **Airline:** The name of the airline.\n",
    "\n",
    "3. **ch_code:** The categorical identification code of the flight.\n",
    "    \n",
    "4. **num_code:** The numerical identification code of the flight.\n",
    "    \n",
    "5. **Dep_Time:** The time when the journey starts from the source.\n",
    "        \n",
    "6. **From:** The source from which the service begins.\n",
    "    \n",
    "7. **Time Taken:** Total Duration of the flight.\n",
    "        \n",
    "8. **Stops:** Total stops between the source and destination.\n",
    "    \n",
    "9. **Arrival_Time:** Time of arrival at the destination.\n",
    "    \n",
    "10. **To:** The destination where the service ends.\n",
    "\n",
    "11. **Price:** The price of the ticket."
   ]
  },
  {
   "cell_type": "markdown",
   "id": "4d93f126",
   "metadata": {},
   "source": [
    "## PROBLEM STATEMENT"
   ]
  },
  {
   "cell_type": "markdown",
   "id": "1de76e8f",
   "metadata": {},
   "source": [
    "**In this project, we aim to predict flight ticket prices, which are known for their unpredictability. By analyzing data from different airlines and cities, we will use machine learning models to make accurate price predictions.**"
   ]
  },
  {
   "cell_type": "markdown",
   "id": "5d956f6e",
   "metadata": {},
   "source": [
    "## Outline\n",
    "\n",
    "Here's a brief outline of the steps we'll follow in this notebook:\n",
    "\n",
    "1. Importing libraries and checking our dataset\n",
    "2. Data Cleaning\n",
    "3. Exploration Data Analysis\n",
    "4. Data Preprocessing\n",
    "5. Model Building\n",
    "6. Model Evaluation\n",
    "7. Conclusion"
   ]
  },
  {
   "cell_type": "markdown",
   "id": "57d44913",
   "metadata": {},
   "source": [
    "### Importing the libraries"
   ]
  },
  {
   "cell_type": "code",
   "execution_count": 1,
   "id": "0a576830",
   "metadata": {},
   "outputs": [],
   "source": [
    "import numpy as np\n",
    "import pandas as pd\n",
    "import warnings\n",
    "warnings.filterwarnings(\"ignore\")\n",
    "import time, datetime\n",
    "import re\n",
    "import seaborn as sns\n",
    "import matplotlib.pyplot as plt\n",
    "from sklearn.preprocessing import OneHotEncoder, StandardScaler, LabelEncoder\n",
    "from sklearn.model_selection import train_test_split, RandomizedSearchCV, GridSearchCV\n",
    "from sklearn.linear_model import LinearRegression\n",
    "from sklearn.tree import DecisionTreeRegressor\n",
    "from sklearn.ensemble import RandomForestRegressor\n",
    "from sklearn.metrics import r2_score, mean_absolute_error, mean_squared_error,mean_absolute_percentage_error\n"
   ]
  },
  {
   "cell_type": "markdown",
   "id": "1b9428ee",
   "metadata": {},
   "source": [
    "## Loading the data"
   ]
  },
  {
   "cell_type": "markdown",
   "id": "5c87e96c",
   "metadata": {},
   "source": [
    "#### ***We have got two csv files so we will load them seperately and after that we will merge them into one***"
   ]
  },
  {
   "cell_type": "code",
   "execution_count": 2,
   "id": "afbc3e08",
   "metadata": {},
   "outputs": [
    {
     "data": {
      "text/html": [
       "<div>\n",
       "<style scoped>\n",
       "    .dataframe tbody tr th:only-of-type {\n",
       "        vertical-align: middle;\n",
       "    }\n",
       "\n",
       "    .dataframe tbody tr th {\n",
       "        vertical-align: top;\n",
       "    }\n",
       "\n",
       "    .dataframe thead th {\n",
       "        text-align: right;\n",
       "    }\n",
       "</style>\n",
       "<table border=\"1\" class=\"dataframe\">\n",
       "  <thead>\n",
       "    <tr style=\"text-align: right;\">\n",
       "      <th></th>\n",
       "      <th>date</th>\n",
       "      <th>airline</th>\n",
       "      <th>ch_code</th>\n",
       "      <th>num_code</th>\n",
       "      <th>dep_time</th>\n",
       "      <th>from</th>\n",
       "      <th>time_taken</th>\n",
       "      <th>stop</th>\n",
       "      <th>arr_time</th>\n",
       "      <th>to</th>\n",
       "      <th>price</th>\n",
       "    </tr>\n",
       "  </thead>\n",
       "  <tbody>\n",
       "    <tr>\n",
       "      <th>0</th>\n",
       "      <td>11-02-2022</td>\n",
       "      <td>Air India</td>\n",
       "      <td>AI</td>\n",
       "      <td>868</td>\n",
       "      <td>18:00</td>\n",
       "      <td>Delhi</td>\n",
       "      <td>02h 00m</td>\n",
       "      <td>non-stop</td>\n",
       "      <td>20:00</td>\n",
       "      <td>Mumbai</td>\n",
       "      <td>25,612</td>\n",
       "    </tr>\n",
       "    <tr>\n",
       "      <th>1</th>\n",
       "      <td>11-02-2022</td>\n",
       "      <td>Air India</td>\n",
       "      <td>AI</td>\n",
       "      <td>624</td>\n",
       "      <td>19:00</td>\n",
       "      <td>Delhi</td>\n",
       "      <td>02h 15m</td>\n",
       "      <td>non-stop</td>\n",
       "      <td>21:15</td>\n",
       "      <td>Mumbai</td>\n",
       "      <td>25,612</td>\n",
       "    </tr>\n",
       "    <tr>\n",
       "      <th>2</th>\n",
       "      <td>11-02-2022</td>\n",
       "      <td>Air India</td>\n",
       "      <td>AI</td>\n",
       "      <td>531</td>\n",
       "      <td>20:00</td>\n",
       "      <td>Delhi</td>\n",
       "      <td>24h 45m</td>\n",
       "      <td>1-stop\\n\\t\\t\\t\\t\\t\\t\\t\\t\\t\\t\\t\\t\\n\\t\\t\\t\\t\\t\\t...</td>\n",
       "      <td>20:45</td>\n",
       "      <td>Mumbai</td>\n",
       "      <td>42,220</td>\n",
       "    </tr>\n",
       "    <tr>\n",
       "      <th>3</th>\n",
       "      <td>11-02-2022</td>\n",
       "      <td>Air India</td>\n",
       "      <td>AI</td>\n",
       "      <td>839</td>\n",
       "      <td>21:25</td>\n",
       "      <td>Delhi</td>\n",
       "      <td>26h 30m</td>\n",
       "      <td>1-stop\\n\\t\\t\\t\\t\\t\\t\\t\\t\\t\\t\\t\\t\\n\\t\\t\\t\\t\\t\\t...</td>\n",
       "      <td>23:55</td>\n",
       "      <td>Mumbai</td>\n",
       "      <td>44,450</td>\n",
       "    </tr>\n",
       "    <tr>\n",
       "      <th>4</th>\n",
       "      <td>11-02-2022</td>\n",
       "      <td>Air India</td>\n",
       "      <td>AI</td>\n",
       "      <td>544</td>\n",
       "      <td>17:15</td>\n",
       "      <td>Delhi</td>\n",
       "      <td>06h 40m</td>\n",
       "      <td>1-stop\\n\\t\\t\\t\\t\\t\\t\\t\\t\\t\\t\\t\\t\\n\\t\\t\\t\\t\\t\\t...</td>\n",
       "      <td>23:55</td>\n",
       "      <td>Mumbai</td>\n",
       "      <td>46,690</td>\n",
       "    </tr>\n",
       "  </tbody>\n",
       "</table>\n",
       "</div>"
      ],
      "text/plain": [
       "         date    airline ch_code  num_code dep_time   from time_taken  \\\n",
       "0  11-02-2022  Air India      AI       868    18:00  Delhi    02h 00m   \n",
       "1  11-02-2022  Air India      AI       624    19:00  Delhi    02h 15m   \n",
       "2  11-02-2022  Air India      AI       531    20:00  Delhi    24h 45m   \n",
       "3  11-02-2022  Air India      AI       839    21:25  Delhi    26h 30m   \n",
       "4  11-02-2022  Air India      AI       544    17:15  Delhi    06h 40m   \n",
       "\n",
       "                                                stop arr_time      to   price  \n",
       "0                                          non-stop     20:00  Mumbai  25,612  \n",
       "1                                          non-stop     21:15  Mumbai  25,612  \n",
       "2  1-stop\\n\\t\\t\\t\\t\\t\\t\\t\\t\\t\\t\\t\\t\\n\\t\\t\\t\\t\\t\\t...    20:45  Mumbai  42,220  \n",
       "3  1-stop\\n\\t\\t\\t\\t\\t\\t\\t\\t\\t\\t\\t\\t\\n\\t\\t\\t\\t\\t\\t...    23:55  Mumbai  44,450  \n",
       "4  1-stop\\n\\t\\t\\t\\t\\t\\t\\t\\t\\t\\t\\t\\t\\n\\t\\t\\t\\t\\t\\t...    23:55  Mumbai  46,690  "
      ]
     },
     "execution_count": 2,
     "metadata": {},
     "output_type": "execute_result"
    }
   ],
   "source": [
    "df1=pd.read_csv(\"business.csv\")\n",
    "df1.head()"
   ]
  },
  {
   "cell_type": "code",
   "execution_count": 3,
   "id": "585c78bb",
   "metadata": {},
   "outputs": [
    {
     "name": "stdout",
     "output_type": "stream",
     "text": [
      "<class 'pandas.core.frame.DataFrame'>\n",
      "RangeIndex: 93487 entries, 0 to 93486\n",
      "Data columns (total 11 columns):\n",
      " #   Column      Non-Null Count  Dtype \n",
      "---  ------      --------------  ----- \n",
      " 0   date        93487 non-null  object\n",
      " 1   airline     93487 non-null  object\n",
      " 2   ch_code     93487 non-null  object\n",
      " 3   num_code    93487 non-null  int64 \n",
      " 4   dep_time    93487 non-null  object\n",
      " 5   from        93487 non-null  object\n",
      " 6   time_taken  93487 non-null  object\n",
      " 7   stop        93487 non-null  object\n",
      " 8   arr_time    93487 non-null  object\n",
      " 9   to          93487 non-null  object\n",
      " 10  price       93487 non-null  object\n",
      "dtypes: int64(1), object(10)\n",
      "memory usage: 7.8+ MB\n"
     ]
    }
   ],
   "source": [
    "df1.info()"
   ]
  },
  {
   "cell_type": "code",
   "execution_count": 4,
   "id": "b2570a04",
   "metadata": {},
   "outputs": [
    {
     "data": {
      "text/html": [
       "<div>\n",
       "<style scoped>\n",
       "    .dataframe tbody tr th:only-of-type {\n",
       "        vertical-align: middle;\n",
       "    }\n",
       "\n",
       "    .dataframe tbody tr th {\n",
       "        vertical-align: top;\n",
       "    }\n",
       "\n",
       "    .dataframe thead th {\n",
       "        text-align: right;\n",
       "    }\n",
       "</style>\n",
       "<table border=\"1\" class=\"dataframe\">\n",
       "  <thead>\n",
       "    <tr style=\"text-align: right;\">\n",
       "      <th></th>\n",
       "      <th>date</th>\n",
       "      <th>airline</th>\n",
       "      <th>ch_code</th>\n",
       "      <th>num_code</th>\n",
       "      <th>dep_time</th>\n",
       "      <th>from</th>\n",
       "      <th>time_taken</th>\n",
       "      <th>stop</th>\n",
       "      <th>arr_time</th>\n",
       "      <th>to</th>\n",
       "      <th>price</th>\n",
       "    </tr>\n",
       "  </thead>\n",
       "  <tbody>\n",
       "    <tr>\n",
       "      <th>0</th>\n",
       "      <td>11-02-2022</td>\n",
       "      <td>SpiceJet</td>\n",
       "      <td>SG</td>\n",
       "      <td>8709</td>\n",
       "      <td>18:55</td>\n",
       "      <td>Delhi</td>\n",
       "      <td>02h 10m</td>\n",
       "      <td>non-stop</td>\n",
       "      <td>21:05</td>\n",
       "      <td>Mumbai</td>\n",
       "      <td>5,953</td>\n",
       "    </tr>\n",
       "    <tr>\n",
       "      <th>1</th>\n",
       "      <td>11-02-2022</td>\n",
       "      <td>SpiceJet</td>\n",
       "      <td>SG</td>\n",
       "      <td>8157</td>\n",
       "      <td>06:20</td>\n",
       "      <td>Delhi</td>\n",
       "      <td>02h 20m</td>\n",
       "      <td>non-stop</td>\n",
       "      <td>08:40</td>\n",
       "      <td>Mumbai</td>\n",
       "      <td>5,953</td>\n",
       "    </tr>\n",
       "    <tr>\n",
       "      <th>2</th>\n",
       "      <td>11-02-2022</td>\n",
       "      <td>AirAsia</td>\n",
       "      <td>I5</td>\n",
       "      <td>764</td>\n",
       "      <td>04:25</td>\n",
       "      <td>Delhi</td>\n",
       "      <td>02h 10m</td>\n",
       "      <td>non-stop</td>\n",
       "      <td>06:35</td>\n",
       "      <td>Mumbai</td>\n",
       "      <td>5,956</td>\n",
       "    </tr>\n",
       "    <tr>\n",
       "      <th>3</th>\n",
       "      <td>11-02-2022</td>\n",
       "      <td>Vistara</td>\n",
       "      <td>UK</td>\n",
       "      <td>995</td>\n",
       "      <td>10:20</td>\n",
       "      <td>Delhi</td>\n",
       "      <td>02h 15m</td>\n",
       "      <td>non-stop</td>\n",
       "      <td>12:35</td>\n",
       "      <td>Mumbai</td>\n",
       "      <td>5,955</td>\n",
       "    </tr>\n",
       "    <tr>\n",
       "      <th>4</th>\n",
       "      <td>11-02-2022</td>\n",
       "      <td>Vistara</td>\n",
       "      <td>UK</td>\n",
       "      <td>963</td>\n",
       "      <td>08:50</td>\n",
       "      <td>Delhi</td>\n",
       "      <td>02h 20m</td>\n",
       "      <td>non-stop</td>\n",
       "      <td>11:10</td>\n",
       "      <td>Mumbai</td>\n",
       "      <td>5,955</td>\n",
       "    </tr>\n",
       "  </tbody>\n",
       "</table>\n",
       "</div>"
      ],
      "text/plain": [
       "         date   airline ch_code  num_code dep_time   from time_taken  \\\n",
       "0  11-02-2022  SpiceJet      SG      8709    18:55  Delhi    02h 10m   \n",
       "1  11-02-2022  SpiceJet      SG      8157    06:20  Delhi    02h 20m   \n",
       "2  11-02-2022   AirAsia      I5       764    04:25  Delhi    02h 10m   \n",
       "3  11-02-2022   Vistara      UK       995    10:20  Delhi    02h 15m   \n",
       "4  11-02-2022   Vistara      UK       963    08:50  Delhi    02h 20m   \n",
       "\n",
       "        stop arr_time      to  price  \n",
       "0  non-stop     21:05  Mumbai  5,953  \n",
       "1  non-stop     08:40  Mumbai  5,953  \n",
       "2  non-stop     06:35  Mumbai  5,956  \n",
       "3  non-stop     12:35  Mumbai  5,955  \n",
       "4  non-stop     11:10  Mumbai  5,955  "
      ]
     },
     "execution_count": 4,
     "metadata": {},
     "output_type": "execute_result"
    }
   ],
   "source": [
    "df2=pd.read_csv(\"economy.csv\")\n",
    "df2.head()"
   ]
  },
  {
   "cell_type": "code",
   "execution_count": 5,
   "id": "b8433400",
   "metadata": {},
   "outputs": [
    {
     "name": "stdout",
     "output_type": "stream",
     "text": [
      "<class 'pandas.core.frame.DataFrame'>\n",
      "RangeIndex: 206774 entries, 0 to 206773\n",
      "Data columns (total 11 columns):\n",
      " #   Column      Non-Null Count   Dtype \n",
      "---  ------      --------------   ----- \n",
      " 0   date        206774 non-null  object\n",
      " 1   airline     206774 non-null  object\n",
      " 2   ch_code     206774 non-null  object\n",
      " 3   num_code    206774 non-null  int64 \n",
      " 4   dep_time    206774 non-null  object\n",
      " 5   from        206774 non-null  object\n",
      " 6   time_taken  206774 non-null  object\n",
      " 7   stop        206774 non-null  object\n",
      " 8   arr_time    206774 non-null  object\n",
      " 9   to          206774 non-null  object\n",
      " 10  price       206774 non-null  object\n",
      "dtypes: int64(1), object(10)\n",
      "memory usage: 17.4+ MB\n"
     ]
    }
   ],
   "source": [
    "df2.info()"
   ]
  },
  {
   "cell_type": "code",
   "execution_count": 6,
   "id": "0a88622b",
   "metadata": {},
   "outputs": [
    {
     "data": {
      "text/plain": [
       "((93487, 11), (206774, 11))"
      ]
     },
     "execution_count": 6,
     "metadata": {},
     "output_type": "execute_result"
    }
   ],
   "source": [
    "df1.shape,df2.shape"
   ]
  },
  {
   "cell_type": "markdown",
   "id": "f545d7bb",
   "metadata": {},
   "source": [
    "### Adding new feature in both of the dataframes."
   ]
  },
  {
   "cell_type": "code",
   "execution_count": 7,
   "id": "e0386c6d",
   "metadata": {},
   "outputs": [],
   "source": [
    "df1['class']='business'\n",
    "df2['class']='economy'"
   ]
  },
  {
   "cell_type": "markdown",
   "id": "37d48ed4",
   "metadata": {},
   "source": [
    "#### Appending the records that is concating both the dataframes into one seperate dataframe."
   ]
  },
  {
   "cell_type": "code",
   "execution_count": 8,
   "id": "278a6a6b",
   "metadata": {},
   "outputs": [
    {
     "data": {
      "text/html": [
       "<div>\n",
       "<style scoped>\n",
       "    .dataframe tbody tr th:only-of-type {\n",
       "        vertical-align: middle;\n",
       "    }\n",
       "\n",
       "    .dataframe tbody tr th {\n",
       "        vertical-align: top;\n",
       "    }\n",
       "\n",
       "    .dataframe thead th {\n",
       "        text-align: right;\n",
       "    }\n",
       "</style>\n",
       "<table border=\"1\" class=\"dataframe\">\n",
       "  <thead>\n",
       "    <tr style=\"text-align: right;\">\n",
       "      <th></th>\n",
       "      <th>date</th>\n",
       "      <th>airline</th>\n",
       "      <th>ch_code</th>\n",
       "      <th>num_code</th>\n",
       "      <th>dep_time</th>\n",
       "      <th>from</th>\n",
       "      <th>time_taken</th>\n",
       "      <th>stop</th>\n",
       "      <th>arr_time</th>\n",
       "      <th>to</th>\n",
       "      <th>price</th>\n",
       "      <th>class</th>\n",
       "    </tr>\n",
       "  </thead>\n",
       "  <tbody>\n",
       "    <tr>\n",
       "      <th>0</th>\n",
       "      <td>11-02-2022</td>\n",
       "      <td>SpiceJet</td>\n",
       "      <td>SG</td>\n",
       "      <td>8709</td>\n",
       "      <td>18:55</td>\n",
       "      <td>Delhi</td>\n",
       "      <td>02h 10m</td>\n",
       "      <td>non-stop</td>\n",
       "      <td>21:05</td>\n",
       "      <td>Mumbai</td>\n",
       "      <td>5,953</td>\n",
       "      <td>economy</td>\n",
       "    </tr>\n",
       "    <tr>\n",
       "      <th>1</th>\n",
       "      <td>11-02-2022</td>\n",
       "      <td>SpiceJet</td>\n",
       "      <td>SG</td>\n",
       "      <td>8157</td>\n",
       "      <td>06:20</td>\n",
       "      <td>Delhi</td>\n",
       "      <td>02h 20m</td>\n",
       "      <td>non-stop</td>\n",
       "      <td>08:40</td>\n",
       "      <td>Mumbai</td>\n",
       "      <td>5,953</td>\n",
       "      <td>economy</td>\n",
       "    </tr>\n",
       "    <tr>\n",
       "      <th>2</th>\n",
       "      <td>11-02-2022</td>\n",
       "      <td>AirAsia</td>\n",
       "      <td>I5</td>\n",
       "      <td>764</td>\n",
       "      <td>04:25</td>\n",
       "      <td>Delhi</td>\n",
       "      <td>02h 10m</td>\n",
       "      <td>non-stop</td>\n",
       "      <td>06:35</td>\n",
       "      <td>Mumbai</td>\n",
       "      <td>5,956</td>\n",
       "      <td>economy</td>\n",
       "    </tr>\n",
       "    <tr>\n",
       "      <th>3</th>\n",
       "      <td>11-02-2022</td>\n",
       "      <td>Vistara</td>\n",
       "      <td>UK</td>\n",
       "      <td>995</td>\n",
       "      <td>10:20</td>\n",
       "      <td>Delhi</td>\n",
       "      <td>02h 15m</td>\n",
       "      <td>non-stop</td>\n",
       "      <td>12:35</td>\n",
       "      <td>Mumbai</td>\n",
       "      <td>5,955</td>\n",
       "      <td>economy</td>\n",
       "    </tr>\n",
       "    <tr>\n",
       "      <th>4</th>\n",
       "      <td>11-02-2022</td>\n",
       "      <td>Vistara</td>\n",
       "      <td>UK</td>\n",
       "      <td>963</td>\n",
       "      <td>08:50</td>\n",
       "      <td>Delhi</td>\n",
       "      <td>02h 20m</td>\n",
       "      <td>non-stop</td>\n",
       "      <td>11:10</td>\n",
       "      <td>Mumbai</td>\n",
       "      <td>5,955</td>\n",
       "      <td>economy</td>\n",
       "    </tr>\n",
       "  </tbody>\n",
       "</table>\n",
       "</div>"
      ],
      "text/plain": [
       "         date   airline ch_code  num_code dep_time   from time_taken  \\\n",
       "0  11-02-2022  SpiceJet      SG      8709    18:55  Delhi    02h 10m   \n",
       "1  11-02-2022  SpiceJet      SG      8157    06:20  Delhi    02h 20m   \n",
       "2  11-02-2022   AirAsia      I5       764    04:25  Delhi    02h 10m   \n",
       "3  11-02-2022   Vistara      UK       995    10:20  Delhi    02h 15m   \n",
       "4  11-02-2022   Vistara      UK       963    08:50  Delhi    02h 20m   \n",
       "\n",
       "        stop arr_time      to  price    class  \n",
       "0  non-stop     21:05  Mumbai  5,953  economy  \n",
       "1  non-stop     08:40  Mumbai  5,953  economy  \n",
       "2  non-stop     06:35  Mumbai  5,956  economy  \n",
       "3  non-stop     12:35  Mumbai  5,955  economy  \n",
       "4  non-stop     11:10  Mumbai  5,955  economy  "
      ]
     },
     "execution_count": 8,
     "metadata": {},
     "output_type": "execute_result"
    }
   ],
   "source": [
    "df=df2.append(df1,ignore_index=True)\n",
    "df.head()"
   ]
  },
  {
   "cell_type": "markdown",
   "id": "6716110b",
   "metadata": {},
   "source": [
    "## Data Checking and understanding"
   ]
  },
  {
   "cell_type": "code",
   "execution_count": 9,
   "id": "706645fc",
   "metadata": {},
   "outputs": [
    {
     "data": {
      "text/plain": [
       "(300261, 12)"
      ]
     },
     "execution_count": 9,
     "metadata": {},
     "output_type": "execute_result"
    }
   ],
   "source": [
    "df.shape"
   ]
  },
  {
   "cell_type": "markdown",
   "id": "460f0c64",
   "metadata": {},
   "source": [
    "#### We have 300259 rows and 11 columns"
   ]
  },
  {
   "cell_type": "code",
   "execution_count": 10,
   "id": "e318c080",
   "metadata": {},
   "outputs": [
    {
     "name": "stdout",
     "output_type": "stream",
     "text": [
      "<class 'pandas.core.frame.DataFrame'>\n",
      "RangeIndex: 300261 entries, 0 to 300260\n",
      "Data columns (total 12 columns):\n",
      " #   Column      Non-Null Count   Dtype \n",
      "---  ------      --------------   ----- \n",
      " 0   date        300261 non-null  object\n",
      " 1   airline     300261 non-null  object\n",
      " 2   ch_code     300261 non-null  object\n",
      " 3   num_code    300261 non-null  int64 \n",
      " 4   dep_time    300261 non-null  object\n",
      " 5   from        300261 non-null  object\n",
      " 6   time_taken  300261 non-null  object\n",
      " 7   stop        300261 non-null  object\n",
      " 8   arr_time    300261 non-null  object\n",
      " 9   to          300261 non-null  object\n",
      " 10  price       300261 non-null  object\n",
      " 11  class       300261 non-null  object\n",
      "dtypes: int64(1), object(11)\n",
      "memory usage: 27.5+ MB\n"
     ]
    }
   ],
   "source": [
    "df.info()"
   ]
  },
  {
   "cell_type": "code",
   "execution_count": 11,
   "id": "5d3156d4",
   "metadata": {},
   "outputs": [
    {
     "data": {
      "text/html": [
       "<div>\n",
       "<style scoped>\n",
       "    .dataframe tbody tr th:only-of-type {\n",
       "        vertical-align: middle;\n",
       "    }\n",
       "\n",
       "    .dataframe tbody tr th {\n",
       "        vertical-align: top;\n",
       "    }\n",
       "\n",
       "    .dataframe thead th {\n",
       "        text-align: right;\n",
       "    }\n",
       "</style>\n",
       "<table border=\"1\" class=\"dataframe\">\n",
       "  <thead>\n",
       "    <tr style=\"text-align: right;\">\n",
       "      <th></th>\n",
       "      <th>num_code</th>\n",
       "    </tr>\n",
       "  </thead>\n",
       "  <tbody>\n",
       "    <tr>\n",
       "      <th>count</th>\n",
       "      <td>300261.000000</td>\n",
       "    </tr>\n",
       "    <tr>\n",
       "      <th>mean</th>\n",
       "      <td>1417.771709</td>\n",
       "    </tr>\n",
       "    <tr>\n",
       "      <th>std</th>\n",
       "      <td>1974.514439</td>\n",
       "    </tr>\n",
       "    <tr>\n",
       "      <th>min</th>\n",
       "      <td>101.000000</td>\n",
       "    </tr>\n",
       "    <tr>\n",
       "      <th>25%</th>\n",
       "      <td>637.000000</td>\n",
       "    </tr>\n",
       "    <tr>\n",
       "      <th>50%</th>\n",
       "      <td>818.000000</td>\n",
       "    </tr>\n",
       "    <tr>\n",
       "      <th>75%</th>\n",
       "      <td>927.000000</td>\n",
       "    </tr>\n",
       "    <tr>\n",
       "      <th>max</th>\n",
       "      <td>9991.000000</td>\n",
       "    </tr>\n",
       "  </tbody>\n",
       "</table>\n",
       "</div>"
      ],
      "text/plain": [
       "            num_code\n",
       "count  300261.000000\n",
       "mean     1417.771709\n",
       "std      1974.514439\n",
       "min       101.000000\n",
       "25%       637.000000\n",
       "50%       818.000000\n",
       "75%       927.000000\n",
       "max      9991.000000"
      ]
     },
     "execution_count": 11,
     "metadata": {},
     "output_type": "execute_result"
    }
   ],
   "source": [
    "df.describe()"
   ]
  },
  {
   "cell_type": "code",
   "execution_count": 12,
   "id": "67fbff4a",
   "metadata": {},
   "outputs": [
    {
     "data": {
      "text/plain": [
       "date          0\n",
       "airline       0\n",
       "ch_code       0\n",
       "num_code      0\n",
       "dep_time      0\n",
       "from          0\n",
       "time_taken    0\n",
       "stop          0\n",
       "arr_time      0\n",
       "to            0\n",
       "price         0\n",
       "class         0\n",
       "dtype: int64"
      ]
     },
     "execution_count": 12,
     "metadata": {},
     "output_type": "execute_result"
    }
   ],
   "source": [
    "df.isnull().sum()"
   ]
  },
  {
   "cell_type": "markdown",
   "id": "a631e75e",
   "metadata": {},
   "source": [
    "### Checking Duplicate values"
   ]
  },
  {
   "cell_type": "code",
   "execution_count": 13,
   "id": "09e9280c",
   "metadata": {},
   "outputs": [
    {
     "data": {
      "text/plain": [
       "2"
      ]
     },
     "execution_count": 13,
     "metadata": {},
     "output_type": "execute_result"
    }
   ],
   "source": [
    "df.duplicated().sum()"
   ]
  },
  {
   "cell_type": "markdown",
   "id": "2f3ea976",
   "metadata": {},
   "source": [
    "### Dropping Duplicate Values"
   ]
  },
  {
   "cell_type": "code",
   "execution_count": 14,
   "id": "dca5675e",
   "metadata": {},
   "outputs": [],
   "source": [
    "df.drop_duplicates(inplace=True)"
   ]
  },
  {
   "cell_type": "code",
   "execution_count": 15,
   "id": "04ac1074",
   "metadata": {},
   "outputs": [
    {
     "data": {
      "text/plain": [
       "0"
      ]
     },
     "execution_count": 15,
     "metadata": {},
     "output_type": "execute_result"
    }
   ],
   "source": [
    "df.duplicated().sum()"
   ]
  },
  {
   "cell_type": "code",
   "execution_count": null,
   "id": "0ae47df1",
   "metadata": {},
   "outputs": [],
   "source": []
  },
  {
   "cell_type": "markdown",
   "id": "a60fd27c",
   "metadata": {},
   "source": [
    "## Data Cleaning"
   ]
  },
  {
   "cell_type": "markdown",
   "id": "ec31d59d",
   "metadata": {},
   "source": [
    "### 1. Merging the 'ch_code' and 'num_code' two seperate variables into one as 'flight'\n",
    "\n",
    "Step 1: Since both columns has different datatypes we need to change the dtype to string\n",
    "\n",
    "Step 2: Now we can easily create new column which can support the values from both the variables"
   ]
  },
  {
   "cell_type": "code",
   "execution_count": 16,
   "id": "3e1d972b",
   "metadata": {},
   "outputs": [
    {
     "data": {
      "text/html": [
       "<div>\n",
       "<style scoped>\n",
       "    .dataframe tbody tr th:only-of-type {\n",
       "        vertical-align: middle;\n",
       "    }\n",
       "\n",
       "    .dataframe tbody tr th {\n",
       "        vertical-align: top;\n",
       "    }\n",
       "\n",
       "    .dataframe thead th {\n",
       "        text-align: right;\n",
       "    }\n",
       "</style>\n",
       "<table border=\"1\" class=\"dataframe\">\n",
       "  <thead>\n",
       "    <tr style=\"text-align: right;\">\n",
       "      <th></th>\n",
       "      <th>date</th>\n",
       "      <th>airline</th>\n",
       "      <th>ch_code</th>\n",
       "      <th>num_code</th>\n",
       "      <th>dep_time</th>\n",
       "      <th>from</th>\n",
       "      <th>time_taken</th>\n",
       "      <th>stop</th>\n",
       "      <th>arr_time</th>\n",
       "      <th>to</th>\n",
       "      <th>price</th>\n",
       "      <th>class</th>\n",
       "    </tr>\n",
       "  </thead>\n",
       "  <tbody>\n",
       "    <tr>\n",
       "      <th>0</th>\n",
       "      <td>11-02-2022</td>\n",
       "      <td>SpiceJet</td>\n",
       "      <td>SG</td>\n",
       "      <td>8709</td>\n",
       "      <td>18:55</td>\n",
       "      <td>Delhi</td>\n",
       "      <td>02h 10m</td>\n",
       "      <td>non-stop</td>\n",
       "      <td>21:05</td>\n",
       "      <td>Mumbai</td>\n",
       "      <td>5,953</td>\n",
       "      <td>economy</td>\n",
       "    </tr>\n",
       "    <tr>\n",
       "      <th>1</th>\n",
       "      <td>11-02-2022</td>\n",
       "      <td>SpiceJet</td>\n",
       "      <td>SG</td>\n",
       "      <td>8157</td>\n",
       "      <td>06:20</td>\n",
       "      <td>Delhi</td>\n",
       "      <td>02h 20m</td>\n",
       "      <td>non-stop</td>\n",
       "      <td>08:40</td>\n",
       "      <td>Mumbai</td>\n",
       "      <td>5,953</td>\n",
       "      <td>economy</td>\n",
       "    </tr>\n",
       "    <tr>\n",
       "      <th>2</th>\n",
       "      <td>11-02-2022</td>\n",
       "      <td>AirAsia</td>\n",
       "      <td>I5</td>\n",
       "      <td>764</td>\n",
       "      <td>04:25</td>\n",
       "      <td>Delhi</td>\n",
       "      <td>02h 10m</td>\n",
       "      <td>non-stop</td>\n",
       "      <td>06:35</td>\n",
       "      <td>Mumbai</td>\n",
       "      <td>5,956</td>\n",
       "      <td>economy</td>\n",
       "    </tr>\n",
       "    <tr>\n",
       "      <th>3</th>\n",
       "      <td>11-02-2022</td>\n",
       "      <td>Vistara</td>\n",
       "      <td>UK</td>\n",
       "      <td>995</td>\n",
       "      <td>10:20</td>\n",
       "      <td>Delhi</td>\n",
       "      <td>02h 15m</td>\n",
       "      <td>non-stop</td>\n",
       "      <td>12:35</td>\n",
       "      <td>Mumbai</td>\n",
       "      <td>5,955</td>\n",
       "      <td>economy</td>\n",
       "    </tr>\n",
       "    <tr>\n",
       "      <th>4</th>\n",
       "      <td>11-02-2022</td>\n",
       "      <td>Vistara</td>\n",
       "      <td>UK</td>\n",
       "      <td>963</td>\n",
       "      <td>08:50</td>\n",
       "      <td>Delhi</td>\n",
       "      <td>02h 20m</td>\n",
       "      <td>non-stop</td>\n",
       "      <td>11:10</td>\n",
       "      <td>Mumbai</td>\n",
       "      <td>5,955</td>\n",
       "      <td>economy</td>\n",
       "    </tr>\n",
       "  </tbody>\n",
       "</table>\n",
       "</div>"
      ],
      "text/plain": [
       "         date   airline ch_code  num_code dep_time   from time_taken  \\\n",
       "0  11-02-2022  SpiceJet      SG      8709    18:55  Delhi    02h 10m   \n",
       "1  11-02-2022  SpiceJet      SG      8157    06:20  Delhi    02h 20m   \n",
       "2  11-02-2022   AirAsia      I5       764    04:25  Delhi    02h 10m   \n",
       "3  11-02-2022   Vistara      UK       995    10:20  Delhi    02h 15m   \n",
       "4  11-02-2022   Vistara      UK       963    08:50  Delhi    02h 20m   \n",
       "\n",
       "        stop arr_time      to  price    class  \n",
       "0  non-stop     21:05  Mumbai  5,953  economy  \n",
       "1  non-stop     08:40  Mumbai  5,953  economy  \n",
       "2  non-stop     06:35  Mumbai  5,956  economy  \n",
       "3  non-stop     12:35  Mumbai  5,955  economy  \n",
       "4  non-stop     11:10  Mumbai  5,955  economy  "
      ]
     },
     "execution_count": 16,
     "metadata": {},
     "output_type": "execute_result"
    }
   ],
   "source": [
    "df.head()"
   ]
  },
  {
   "cell_type": "code",
   "execution_count": 17,
   "id": "ba997bb6",
   "metadata": {},
   "outputs": [],
   "source": [
    "df['num_code']=df['num_code'].astype(\"str\")\n",
    "df[\"flight\"] = df[\"ch_code\"]+\"-\"+df[\"num_code\"]\n",
    "df.drop([\"ch_code\",\"num_code\"],axis = 1,inplace = True)"
   ]
  },
  {
   "cell_type": "code",
   "execution_count": 18,
   "id": "b7492a4e",
   "metadata": {},
   "outputs": [
    {
     "data": {
      "text/html": [
       "<div>\n",
       "<style scoped>\n",
       "    .dataframe tbody tr th:only-of-type {\n",
       "        vertical-align: middle;\n",
       "    }\n",
       "\n",
       "    .dataframe tbody tr th {\n",
       "        vertical-align: top;\n",
       "    }\n",
       "\n",
       "    .dataframe thead th {\n",
       "        text-align: right;\n",
       "    }\n",
       "</style>\n",
       "<table border=\"1\" class=\"dataframe\">\n",
       "  <thead>\n",
       "    <tr style=\"text-align: right;\">\n",
       "      <th></th>\n",
       "      <th>date</th>\n",
       "      <th>airline</th>\n",
       "      <th>dep_time</th>\n",
       "      <th>from</th>\n",
       "      <th>time_taken</th>\n",
       "      <th>stop</th>\n",
       "      <th>arr_time</th>\n",
       "      <th>to</th>\n",
       "      <th>price</th>\n",
       "      <th>class</th>\n",
       "      <th>flight</th>\n",
       "    </tr>\n",
       "  </thead>\n",
       "  <tbody>\n",
       "    <tr>\n",
       "      <th>0</th>\n",
       "      <td>11-02-2022</td>\n",
       "      <td>SpiceJet</td>\n",
       "      <td>18:55</td>\n",
       "      <td>Delhi</td>\n",
       "      <td>02h 10m</td>\n",
       "      <td>non-stop</td>\n",
       "      <td>21:05</td>\n",
       "      <td>Mumbai</td>\n",
       "      <td>5,953</td>\n",
       "      <td>economy</td>\n",
       "      <td>SG-8709</td>\n",
       "    </tr>\n",
       "    <tr>\n",
       "      <th>1</th>\n",
       "      <td>11-02-2022</td>\n",
       "      <td>SpiceJet</td>\n",
       "      <td>06:20</td>\n",
       "      <td>Delhi</td>\n",
       "      <td>02h 20m</td>\n",
       "      <td>non-stop</td>\n",
       "      <td>08:40</td>\n",
       "      <td>Mumbai</td>\n",
       "      <td>5,953</td>\n",
       "      <td>economy</td>\n",
       "      <td>SG-8157</td>\n",
       "    </tr>\n",
       "    <tr>\n",
       "      <th>2</th>\n",
       "      <td>11-02-2022</td>\n",
       "      <td>AirAsia</td>\n",
       "      <td>04:25</td>\n",
       "      <td>Delhi</td>\n",
       "      <td>02h 10m</td>\n",
       "      <td>non-stop</td>\n",
       "      <td>06:35</td>\n",
       "      <td>Mumbai</td>\n",
       "      <td>5,956</td>\n",
       "      <td>economy</td>\n",
       "      <td>I5-764</td>\n",
       "    </tr>\n",
       "    <tr>\n",
       "      <th>3</th>\n",
       "      <td>11-02-2022</td>\n",
       "      <td>Vistara</td>\n",
       "      <td>10:20</td>\n",
       "      <td>Delhi</td>\n",
       "      <td>02h 15m</td>\n",
       "      <td>non-stop</td>\n",
       "      <td>12:35</td>\n",
       "      <td>Mumbai</td>\n",
       "      <td>5,955</td>\n",
       "      <td>economy</td>\n",
       "      <td>UK-995</td>\n",
       "    </tr>\n",
       "    <tr>\n",
       "      <th>4</th>\n",
       "      <td>11-02-2022</td>\n",
       "      <td>Vistara</td>\n",
       "      <td>08:50</td>\n",
       "      <td>Delhi</td>\n",
       "      <td>02h 20m</td>\n",
       "      <td>non-stop</td>\n",
       "      <td>11:10</td>\n",
       "      <td>Mumbai</td>\n",
       "      <td>5,955</td>\n",
       "      <td>economy</td>\n",
       "      <td>UK-963</td>\n",
       "    </tr>\n",
       "  </tbody>\n",
       "</table>\n",
       "</div>"
      ],
      "text/plain": [
       "         date   airline dep_time   from time_taken       stop arr_time  \\\n",
       "0  11-02-2022  SpiceJet    18:55  Delhi    02h 10m  non-stop     21:05   \n",
       "1  11-02-2022  SpiceJet    06:20  Delhi    02h 20m  non-stop     08:40   \n",
       "2  11-02-2022   AirAsia    04:25  Delhi    02h 10m  non-stop     06:35   \n",
       "3  11-02-2022   Vistara    10:20  Delhi    02h 15m  non-stop     12:35   \n",
       "4  11-02-2022   Vistara    08:50  Delhi    02h 20m  non-stop     11:10   \n",
       "\n",
       "       to  price    class   flight  \n",
       "0  Mumbai  5,953  economy  SG-8709  \n",
       "1  Mumbai  5,953  economy  SG-8157  \n",
       "2  Mumbai  5,956  economy   I5-764  \n",
       "3  Mumbai  5,955  economy   UK-995  \n",
       "4  Mumbai  5,955  economy   UK-963  "
      ]
     },
     "execution_count": 18,
     "metadata": {},
     "output_type": "execute_result"
    }
   ],
   "source": [
    "df.head()"
   ]
  },
  {
   "cell_type": "markdown",
   "id": "bb194b1b",
   "metadata": {},
   "source": [
    "### 2. Renaming the featuers for better understanding"
   ]
  },
  {
   "cell_type": "code",
   "execution_count": 19,
   "id": "250b6fbd",
   "metadata": {},
   "outputs": [],
   "source": [
    "df.rename({'dep_time':'departure_time','from':'source_city','time_taken':'duration','stop':'stops',\n",
    "           'arr_time':'arrival_time','to':'destination_city'},axis=1,inplace=True)"
   ]
  },
  {
   "cell_type": "markdown",
   "id": "a3f3cba1",
   "metadata": {},
   "source": [
    "### 3. Adding new column indicating the number of days left for travelling"
   ]
  },
  {
   "cell_type": "code",
   "execution_count": 20,
   "id": "66926b8c",
   "metadata": {},
   "outputs": [
    {
     "data": {
      "text/plain": [
       "0         11-02-2022\n",
       "1         11-02-2022\n",
       "2         11-02-2022\n",
       "3         11-02-2022\n",
       "4         11-02-2022\n",
       "             ...    \n",
       "300256    31-03-2022\n",
       "300257    31-03-2022\n",
       "300258    31-03-2022\n",
       "300259    31-03-2022\n",
       "300260    31-03-2022\n",
       "Name: date, Length: 300259, dtype: object"
      ]
     },
     "execution_count": 20,
     "metadata": {},
     "output_type": "execute_result"
    }
   ],
   "source": [
    "df['date']"
   ]
  },
  {
   "cell_type": "code",
   "execution_count": 21,
   "id": "4d365d20",
   "metadata": {},
   "outputs": [],
   "source": [
    "df['Journey_Month'] = pd.to_datetime(df.date, format='%d-%m-%Y').dt.month\n",
    "df['Journey_Week'] = pd.to_datetime(df.date, format='%d-%m-%Y').dt.weekday"
   ]
  },
  {
   "cell_type": "code",
   "execution_count": 22,
   "id": "a5d7dbbd",
   "metadata": {},
   "outputs": [
    {
     "data": {
      "text/plain": [
       "3    199671\n",
       "2    100588\n",
       "Name: Journey_Month, dtype: int64"
      ]
     },
     "execution_count": 22,
     "metadata": {},
     "output_type": "execute_result"
    }
   ],
   "source": [
    "df[\"Journey_Month\"].value_counts()"
   ]
  },
  {
   "cell_type": "code",
   "execution_count": 23,
   "id": "c362f275",
   "metadata": {},
   "outputs": [
    {
     "data": {
      "text/plain": [
       "0    44072\n",
       "1    44041\n",
       "2    44023\n",
       "3    44022\n",
       "6    42398\n",
       "5    41809\n",
       "4    39894\n",
       "Name: Journey_Week, dtype: int64"
      ]
     },
     "execution_count": 23,
     "metadata": {},
     "output_type": "execute_result"
    }
   ],
   "source": [
    "df[\"Journey_Week\"].value_counts()"
   ]
  },
  {
   "cell_type": "markdown",
   "id": "a7b0c5cb",
   "metadata": {},
   "source": [
    "**Now we dont need date column so  we will drop it as we have created new columns.**"
   ]
  },
  {
   "cell_type": "code",
   "execution_count": 25,
   "id": "48907ce0",
   "metadata": {},
   "outputs": [],
   "source": [
    "df.drop('date',axis=1,inplace=True)"
   ]
  },
  {
   "cell_type": "code",
   "execution_count": 26,
   "id": "3a31f9c2",
   "metadata": {
    "scrolled": true
   },
   "outputs": [
    {
     "data": {
      "text/html": [
       "<div>\n",
       "<style scoped>\n",
       "    .dataframe tbody tr th:only-of-type {\n",
       "        vertical-align: middle;\n",
       "    }\n",
       "\n",
       "    .dataframe tbody tr th {\n",
       "        vertical-align: top;\n",
       "    }\n",
       "\n",
       "    .dataframe thead th {\n",
       "        text-align: right;\n",
       "    }\n",
       "</style>\n",
       "<table border=\"1\" class=\"dataframe\">\n",
       "  <thead>\n",
       "    <tr style=\"text-align: right;\">\n",
       "      <th></th>\n",
       "      <th>airline</th>\n",
       "      <th>departure_time</th>\n",
       "      <th>source_city</th>\n",
       "      <th>duration</th>\n",
       "      <th>stops</th>\n",
       "      <th>arrival_time</th>\n",
       "      <th>destination_city</th>\n",
       "      <th>price</th>\n",
       "      <th>class</th>\n",
       "      <th>flight</th>\n",
       "      <th>Journey_Month</th>\n",
       "      <th>Journey_Week</th>\n",
       "    </tr>\n",
       "  </thead>\n",
       "  <tbody>\n",
       "    <tr>\n",
       "      <th>0</th>\n",
       "      <td>SpiceJet</td>\n",
       "      <td>18:55</td>\n",
       "      <td>Delhi</td>\n",
       "      <td>02h 10m</td>\n",
       "      <td>non-stop</td>\n",
       "      <td>21:05</td>\n",
       "      <td>Mumbai</td>\n",
       "      <td>5,953</td>\n",
       "      <td>economy</td>\n",
       "      <td>SG-8709</td>\n",
       "      <td>2</td>\n",
       "      <td>4</td>\n",
       "    </tr>\n",
       "    <tr>\n",
       "      <th>1</th>\n",
       "      <td>SpiceJet</td>\n",
       "      <td>06:20</td>\n",
       "      <td>Delhi</td>\n",
       "      <td>02h 20m</td>\n",
       "      <td>non-stop</td>\n",
       "      <td>08:40</td>\n",
       "      <td>Mumbai</td>\n",
       "      <td>5,953</td>\n",
       "      <td>economy</td>\n",
       "      <td>SG-8157</td>\n",
       "      <td>2</td>\n",
       "      <td>4</td>\n",
       "    </tr>\n",
       "    <tr>\n",
       "      <th>2</th>\n",
       "      <td>AirAsia</td>\n",
       "      <td>04:25</td>\n",
       "      <td>Delhi</td>\n",
       "      <td>02h 10m</td>\n",
       "      <td>non-stop</td>\n",
       "      <td>06:35</td>\n",
       "      <td>Mumbai</td>\n",
       "      <td>5,956</td>\n",
       "      <td>economy</td>\n",
       "      <td>I5-764</td>\n",
       "      <td>2</td>\n",
       "      <td>4</td>\n",
       "    </tr>\n",
       "    <tr>\n",
       "      <th>3</th>\n",
       "      <td>Vistara</td>\n",
       "      <td>10:20</td>\n",
       "      <td>Delhi</td>\n",
       "      <td>02h 15m</td>\n",
       "      <td>non-stop</td>\n",
       "      <td>12:35</td>\n",
       "      <td>Mumbai</td>\n",
       "      <td>5,955</td>\n",
       "      <td>economy</td>\n",
       "      <td>UK-995</td>\n",
       "      <td>2</td>\n",
       "      <td>4</td>\n",
       "    </tr>\n",
       "    <tr>\n",
       "      <th>4</th>\n",
       "      <td>Vistara</td>\n",
       "      <td>08:50</td>\n",
       "      <td>Delhi</td>\n",
       "      <td>02h 20m</td>\n",
       "      <td>non-stop</td>\n",
       "      <td>11:10</td>\n",
       "      <td>Mumbai</td>\n",
       "      <td>5,955</td>\n",
       "      <td>economy</td>\n",
       "      <td>UK-963</td>\n",
       "      <td>2</td>\n",
       "      <td>4</td>\n",
       "    </tr>\n",
       "  </tbody>\n",
       "</table>\n",
       "</div>"
      ],
      "text/plain": [
       "    airline departure_time source_city duration      stops arrival_time  \\\n",
       "0  SpiceJet          18:55       Delhi  02h 10m  non-stop         21:05   \n",
       "1  SpiceJet          06:20       Delhi  02h 20m  non-stop         08:40   \n",
       "2   AirAsia          04:25       Delhi  02h 10m  non-stop         06:35   \n",
       "3   Vistara          10:20       Delhi  02h 15m  non-stop         12:35   \n",
       "4   Vistara          08:50       Delhi  02h 20m  non-stop         11:10   \n",
       "\n",
       "  destination_city  price    class   flight  Journey_Month  Journey_Week  \n",
       "0           Mumbai  5,953  economy  SG-8709              2             4  \n",
       "1           Mumbai  5,953  economy  SG-8157              2             4  \n",
       "2           Mumbai  5,956  economy   I5-764              2             4  \n",
       "3           Mumbai  5,955  economy   UK-995              2             4  \n",
       "4           Mumbai  5,955  economy   UK-963              2             4  "
      ]
     },
     "execution_count": 26,
     "metadata": {},
     "output_type": "execute_result"
    }
   ],
   "source": [
    "df.head()"
   ]
  },
  {
   "cell_type": "markdown",
   "id": "f7d8ce48",
   "metadata": {},
   "source": [
    "### 4. Changing departure time into morming/noon/evening"
   ]
  },
  {
   "cell_type": "code",
   "execution_count": 27,
   "id": "87b0aa02",
   "metadata": {},
   "outputs": [
    {
     "data": {
      "text/html": [
       "<div>\n",
       "<style scoped>\n",
       "    .dataframe tbody tr th:only-of-type {\n",
       "        vertical-align: middle;\n",
       "    }\n",
       "\n",
       "    .dataframe tbody tr th {\n",
       "        vertical-align: top;\n",
       "    }\n",
       "\n",
       "    .dataframe thead th {\n",
       "        text-align: right;\n",
       "    }\n",
       "</style>\n",
       "<table border=\"1\" class=\"dataframe\">\n",
       "  <thead>\n",
       "    <tr style=\"text-align: right;\">\n",
       "      <th></th>\n",
       "      <th>airline</th>\n",
       "      <th>departure_time</th>\n",
       "      <th>source_city</th>\n",
       "      <th>duration</th>\n",
       "      <th>stops</th>\n",
       "      <th>arrival_time</th>\n",
       "      <th>destination_city</th>\n",
       "      <th>price</th>\n",
       "      <th>class</th>\n",
       "      <th>flight</th>\n",
       "      <th>Journey_Month</th>\n",
       "      <th>Journey_Week</th>\n",
       "    </tr>\n",
       "  </thead>\n",
       "  <tbody>\n",
       "    <tr>\n",
       "      <th>0</th>\n",
       "      <td>SpiceJet</td>\n",
       "      <td>Evening</td>\n",
       "      <td>Delhi</td>\n",
       "      <td>02h 10m</td>\n",
       "      <td>non-stop</td>\n",
       "      <td>21:05</td>\n",
       "      <td>Mumbai</td>\n",
       "      <td>5,953</td>\n",
       "      <td>economy</td>\n",
       "      <td>SG-8709</td>\n",
       "      <td>2</td>\n",
       "      <td>4</td>\n",
       "    </tr>\n",
       "  </tbody>\n",
       "</table>\n",
       "</div>"
      ],
      "text/plain": [
       "    airline departure_time source_city duration      stops arrival_time  \\\n",
       "0  SpiceJet        Evening       Delhi  02h 10m  non-stop         21:05   \n",
       "\n",
       "  destination_city  price    class   flight  Journey_Month  Journey_Week  \n",
       "0           Mumbai  5,953  economy  SG-8709              2             4  "
      ]
     },
     "execution_count": 27,
     "metadata": {},
     "output_type": "execute_result"
    }
   ],
   "source": [
    "d= (pd.to_datetime(df[\"departure_time\"]).dt.hour % 24 + 4) // 4\n",
    "d.replace({1: 'Late Night', 2: 'Early Morning', 3: 'Morning', \n",
    "                      4: 'Afternoon', 5: 'Evening', 6: 'Night'} ,inplace = True)\n",
    "df[\"departure_time\"] = d \n",
    "df.head(1)"
   ]
  },
  {
   "cell_type": "markdown",
   "id": "9e889bc5",
   "metadata": {},
   "source": [
    "### 5. Changing arrival time into morming/noon/evening"
   ]
  },
  {
   "cell_type": "code",
   "execution_count": 28,
   "id": "aa5e71b8",
   "metadata": {},
   "outputs": [
    {
     "data": {
      "text/plain": [
       "('00:05', '23:59')"
      ]
     },
     "execution_count": 28,
     "metadata": {},
     "output_type": "execute_result"
    }
   ],
   "source": [
    "df.arrival_time.min(),df.arrival_time.max()"
   ]
  },
  {
   "cell_type": "code",
   "execution_count": 29,
   "id": "60afd23d",
   "metadata": {},
   "outputs": [
    {
     "data": {
      "text/html": [
       "<div>\n",
       "<style scoped>\n",
       "    .dataframe tbody tr th:only-of-type {\n",
       "        vertical-align: middle;\n",
       "    }\n",
       "\n",
       "    .dataframe tbody tr th {\n",
       "        vertical-align: top;\n",
       "    }\n",
       "\n",
       "    .dataframe thead th {\n",
       "        text-align: right;\n",
       "    }\n",
       "</style>\n",
       "<table border=\"1\" class=\"dataframe\">\n",
       "  <thead>\n",
       "    <tr style=\"text-align: right;\">\n",
       "      <th></th>\n",
       "      <th>airline</th>\n",
       "      <th>departure_time</th>\n",
       "      <th>source_city</th>\n",
       "      <th>duration</th>\n",
       "      <th>stops</th>\n",
       "      <th>arrival_time</th>\n",
       "      <th>destination_city</th>\n",
       "      <th>price</th>\n",
       "      <th>class</th>\n",
       "      <th>flight</th>\n",
       "      <th>Journey_Month</th>\n",
       "      <th>Journey_Week</th>\n",
       "    </tr>\n",
       "  </thead>\n",
       "  <tbody>\n",
       "    <tr>\n",
       "      <th>0</th>\n",
       "      <td>SpiceJet</td>\n",
       "      <td>Evening</td>\n",
       "      <td>Delhi</td>\n",
       "      <td>02h 10m</td>\n",
       "      <td>non-stop</td>\n",
       "      <td>Night</td>\n",
       "      <td>Mumbai</td>\n",
       "      <td>5,953</td>\n",
       "      <td>economy</td>\n",
       "      <td>SG-8709</td>\n",
       "      <td>2</td>\n",
       "      <td>4</td>\n",
       "    </tr>\n",
       "  </tbody>\n",
       "</table>\n",
       "</div>"
      ],
      "text/plain": [
       "    airline departure_time source_city duration      stops arrival_time  \\\n",
       "0  SpiceJet        Evening       Delhi  02h 10m  non-stop         Night   \n",
       "\n",
       "  destination_city  price    class   flight  Journey_Month  Journey_Week  \n",
       "0           Mumbai  5,953  economy  SG-8709              2             4  "
      ]
     },
     "execution_count": 29,
     "metadata": {},
     "output_type": "execute_result"
    }
   ],
   "source": [
    "d= (pd.to_datetime(df[\"arrival_time\"]).dt.hour % 24 + 4) // 4\n",
    "d.replace({1: 'Late Night', 2: 'Early Morning', 3: 'Morning', \n",
    "                      4: 'Afternoon', 5: 'Evening', 6: 'Night'} ,inplace = True)\n",
    "df[\"arrival_time\"] = d \n",
    "df.head(1)"
   ]
  },
  {
   "cell_type": "markdown",
   "id": "4ccea320",
   "metadata": {},
   "source": [
    "### 6. Making duration in float values by calculating only hours"
   ]
  },
  {
   "cell_type": "code",
   "execution_count": 30,
   "id": "588e940b",
   "metadata": {},
   "outputs": [],
   "source": [
    "temp = pd.DataFrame(df[\"duration\"].str.split(expand = True).to_numpy().astype(str), \n",
    "                    columns = [\"hour\",\"minute\"])"
   ]
  },
  {
   "cell_type": "code",
   "execution_count": 31,
   "id": "2314cd1b",
   "metadata": {},
   "outputs": [
    {
     "data": {
      "text/plain": [
       "array(['02h', '12h', '16h', '11h', '14h', '15h', '03h', '05h', '08h',\n",
       "       '06h', '18h', '23h', '24h', '04h', '19h', '22h', '26h', '17h',\n",
       "       '20h', '21h', '07h', '10h', '28h', '09h', '13h', '29h', '27h',\n",
       "       '30h', '25h', '31h', '33h', '36h', '35h', '34h', '39h', '01h',\n",
       "       '37h', '40h', '32h', '7h', '41h', '38h', '1.03h', '1.02h', '2h',\n",
       "       '00h', '47h', '1.01h', '5h', '42h', '49h', '45h', '44h'],\n",
       "      dtype=object)"
      ]
     },
     "execution_count": 31,
     "metadata": {},
     "output_type": "execute_result"
    }
   ],
   "source": [
    "temp.hour.unique()"
   ]
  },
  {
   "cell_type": "code",
   "execution_count": 32,
   "id": "8b4a798f",
   "metadata": {},
   "outputs": [],
   "source": [
    "temp[\"hour\"] = temp[\"hour\"].apply(lambda x: re.sub(\"[^0-9]\",\"\",x)).astype(int)"
   ]
  },
  {
   "cell_type": "code",
   "execution_count": 33,
   "id": "9d9c4733",
   "metadata": {},
   "outputs": [
    {
     "data": {
      "text/plain": [
       "array([  2,  12,  16,  11,  14,  15,   3,   5,   8,   6,  18,  23,  24,\n",
       "         4,  19,  22,  26,  17,  20,  21,   7,  10,  28,   9,  13,  29,\n",
       "        27,  30,  25,  31,  33,  36,  35,  34,  39,   1,  37,  40,  32,\n",
       "        41,  38, 103, 102,   0,  47, 101,  42,  49,  45,  44])"
      ]
     },
     "execution_count": 33,
     "metadata": {},
     "output_type": "execute_result"
    }
   ],
   "source": [
    "temp.hour.unique()"
   ]
  },
  {
   "cell_type": "code",
   "execution_count": 34,
   "id": "0916b01b",
   "metadata": {},
   "outputs": [
    {
     "data": {
      "text/plain": [
       "array(['10m', '20m', '15m', '05m', '45m', '30m', '40m', '50m', '00m',\n",
       "       '25m', '35m', '55m', '04m', 'm', '59m', '24m'], dtype=object)"
      ]
     },
     "execution_count": 34,
     "metadata": {},
     "output_type": "execute_result"
    }
   ],
   "source": [
    "temp.minute.unique()"
   ]
  },
  {
   "cell_type": "code",
   "execution_count": 35,
   "id": "41f36c05",
   "metadata": {},
   "outputs": [],
   "source": [
    "temp[\"minute\"] = temp[\"minute\"].apply(lambda r: re.sub(\"[^0-9]\",\"\",r))"
   ]
  },
  {
   "cell_type": "code",
   "execution_count": 36,
   "id": "cf6efffd",
   "metadata": {},
   "outputs": [
    {
     "data": {
      "text/plain": [
       "array(['10', '20', '15', '05', '45', '30', '40', '50', '00', '25', '35',\n",
       "       '55', '04', '', '59', '24'], dtype=object)"
      ]
     },
     "execution_count": 36,
     "metadata": {},
     "output_type": "execute_result"
    }
   ],
   "source": [
    "temp.minute.unique()"
   ]
  },
  {
   "cell_type": "markdown",
   "id": "db884370",
   "metadata": {},
   "source": [
    "#### We have no values in minute column so we will replace it with 0"
   ]
  },
  {
   "cell_type": "code",
   "execution_count": 37,
   "id": "91a93d99",
   "metadata": {},
   "outputs": [],
   "source": [
    "temp[\"minute\"] = np.where(temp[\"minute\"] == \"\", 0, temp[\"minute\"]) # replaceing \"\" with 0"
   ]
  },
  {
   "cell_type": "code",
   "execution_count": 38,
   "id": "265a1217",
   "metadata": {},
   "outputs": [
    {
     "data": {
      "text/plain": [
       "array(['10', '20', '15', '05', '45', '30', '40', '50', '00', '25', '35',\n",
       "       '55', '04', 0, '59', '24'], dtype=object)"
      ]
     },
     "execution_count": 38,
     "metadata": {},
     "output_type": "execute_result"
    }
   ],
   "source": [
    "temp.minute.unique()"
   ]
  },
  {
   "cell_type": "code",
   "execution_count": 39,
   "id": "2415b550",
   "metadata": {},
   "outputs": [
    {
     "data": {
      "text/plain": [
       "dtype('O')"
      ]
     },
     "execution_count": 39,
     "metadata": {},
     "output_type": "execute_result"
    }
   ],
   "source": [
    "temp['minute'].dtypes"
   ]
  },
  {
   "cell_type": "markdown",
   "id": "83301ef6",
   "metadata": {},
   "source": [
    "#### Our Minute column has object data type so we will need to change it to int "
   ]
  },
  {
   "cell_type": "code",
   "execution_count": 40,
   "id": "1828722e",
   "metadata": {},
   "outputs": [],
   "source": [
    "temp[\"minute\"] = temp[\"minute\"].astype(int)"
   ]
  },
  {
   "cell_type": "code",
   "execution_count": 41,
   "id": "bf44a433",
   "metadata": {},
   "outputs": [
    {
     "data": {
      "text/plain": [
       "dtype('int32')"
      ]
     },
     "execution_count": 41,
     "metadata": {},
     "output_type": "execute_result"
    }
   ],
   "source": [
    "temp['minute'].dtypes"
   ]
  },
  {
   "cell_type": "code",
   "execution_count": 42,
   "id": "4447b977",
   "metadata": {},
   "outputs": [
    {
     "data": {
      "text/html": [
       "<div>\n",
       "<style scoped>\n",
       "    .dataframe tbody tr th:only-of-type {\n",
       "        vertical-align: middle;\n",
       "    }\n",
       "\n",
       "    .dataframe tbody tr th {\n",
       "        vertical-align: top;\n",
       "    }\n",
       "\n",
       "    .dataframe thead th {\n",
       "        text-align: right;\n",
       "    }\n",
       "</style>\n",
       "<table border=\"1\" class=\"dataframe\">\n",
       "  <thead>\n",
       "    <tr style=\"text-align: right;\">\n",
       "      <th></th>\n",
       "      <th>hour</th>\n",
       "      <th>minute</th>\n",
       "    </tr>\n",
       "  </thead>\n",
       "  <tbody>\n",
       "    <tr>\n",
       "      <th>0</th>\n",
       "      <td>2</td>\n",
       "      <td>10</td>\n",
       "    </tr>\n",
       "    <tr>\n",
       "      <th>1</th>\n",
       "      <td>2</td>\n",
       "      <td>20</td>\n",
       "    </tr>\n",
       "    <tr>\n",
       "      <th>2</th>\n",
       "      <td>2</td>\n",
       "      <td>10</td>\n",
       "    </tr>\n",
       "    <tr>\n",
       "      <th>3</th>\n",
       "      <td>2</td>\n",
       "      <td>15</td>\n",
       "    </tr>\n",
       "    <tr>\n",
       "      <th>4</th>\n",
       "      <td>2</td>\n",
       "      <td>20</td>\n",
       "    </tr>\n",
       "  </tbody>\n",
       "</table>\n",
       "</div>"
      ],
      "text/plain": [
       "   hour  minute\n",
       "0     2      10\n",
       "1     2      20\n",
       "2     2      10\n",
       "3     2      15\n",
       "4     2      20"
      ]
     },
     "execution_count": 42,
     "metadata": {},
     "output_type": "execute_result"
    }
   ],
   "source": [
    "temp.head()"
   ]
  },
  {
   "cell_type": "markdown",
   "id": "25d73483",
   "metadata": {},
   "source": [
    "#### Combining the hour and minute as total hours into one columm duration column"
   ]
  },
  {
   "cell_type": "code",
   "execution_count": 43,
   "id": "509f0b54",
   "metadata": {},
   "outputs": [
    {
     "data": {
      "text/html": [
       "<div>\n",
       "<style scoped>\n",
       "    .dataframe tbody tr th:only-of-type {\n",
       "        vertical-align: middle;\n",
       "    }\n",
       "\n",
       "    .dataframe tbody tr th {\n",
       "        vertical-align: top;\n",
       "    }\n",
       "\n",
       "    .dataframe thead th {\n",
       "        text-align: right;\n",
       "    }\n",
       "</style>\n",
       "<table border=\"1\" class=\"dataframe\">\n",
       "  <thead>\n",
       "    <tr style=\"text-align: right;\">\n",
       "      <th></th>\n",
       "      <th>airline</th>\n",
       "      <th>departure_time</th>\n",
       "      <th>source_city</th>\n",
       "      <th>duration</th>\n",
       "      <th>stops</th>\n",
       "      <th>arrival_time</th>\n",
       "      <th>destination_city</th>\n",
       "      <th>price</th>\n",
       "      <th>class</th>\n",
       "      <th>flight</th>\n",
       "      <th>Journey_Month</th>\n",
       "      <th>Journey_Week</th>\n",
       "    </tr>\n",
       "  </thead>\n",
       "  <tbody>\n",
       "    <tr>\n",
       "      <th>0</th>\n",
       "      <td>SpiceJet</td>\n",
       "      <td>Evening</td>\n",
       "      <td>Delhi</td>\n",
       "      <td>2.17</td>\n",
       "      <td>non-stop</td>\n",
       "      <td>Night</td>\n",
       "      <td>Mumbai</td>\n",
       "      <td>5,953</td>\n",
       "      <td>economy</td>\n",
       "      <td>SG-8709</td>\n",
       "      <td>2</td>\n",
       "      <td>4</td>\n",
       "    </tr>\n",
       "  </tbody>\n",
       "</table>\n",
       "</div>"
      ],
      "text/plain": [
       "    airline departure_time source_city  duration      stops arrival_time  \\\n",
       "0  SpiceJet        Evening       Delhi      2.17  non-stop         Night   \n",
       "\n",
       "  destination_city  price    class   flight  Journey_Month  Journey_Week  \n",
       "0           Mumbai  5,953  economy  SG-8709              2             4  "
      ]
     },
     "execution_count": 43,
     "metadata": {},
     "output_type": "execute_result"
    }
   ],
   "source": [
    "df[\"duration\"] = np.around((temp[\"hour\"] + (temp[\"minute\"]/60)),2) \n",
    "df.head(1)"
   ]
  },
  {
   "cell_type": "markdown",
   "id": "1bdb8207",
   "metadata": {},
   "source": [
    "### 7. Stops column is in object we will convert it into integer"
   ]
  },
  {
   "cell_type": "code",
   "execution_count": 44,
   "id": "7288dc5b",
   "metadata": {},
   "outputs": [
    {
     "data": {
      "text/plain": [
       "array(['non-stop ',\n",
       "       '1-stop\\n\\t\\t\\t\\t\\t\\t\\t\\t\\t\\t\\t\\t\\n\\t\\t\\t\\t\\t\\t\\t\\t\\t\\t\\t\\t',\n",
       "       '1-stop\\n\\t\\t\\t\\t\\t\\t\\t\\t\\t\\t\\t\\tVia IXU\\n\\t\\t\\t\\t\\t\\t\\t\\t\\t\\t\\t\\t',\n",
       "       '1-stop\\n\\t\\t\\t\\t\\t\\t\\t\\t\\t\\t\\t\\tVia Chennai\\n\\t\\t\\t\\t\\t\\t\\t\\t\\t\\t\\t\\t',\n",
       "       '1-stop\\n\\t\\t\\t\\t\\t\\t\\t\\t\\t\\t\\t\\tVia Indore\\n\\t\\t\\t\\t\\t\\t\\t\\t\\t\\t\\t\\t',\n",
       "       '1-stop\\n\\t\\t\\t\\t\\t\\t\\t\\t\\t\\t\\t\\tVia RPR\\n\\t\\t\\t\\t\\t\\t\\t\\t\\t\\t\\t\\t',\n",
       "       '2+-stop',\n",
       "       '1-stop\\n\\t\\t\\t\\t\\t\\t\\t\\t\\t\\t\\t\\tVia Lucknow\\n\\t\\t\\t\\t\\t\\t\\t\\t\\t\\t\\t\\t',\n",
       "       '1-stop\\n\\t\\t\\t\\t\\t\\t\\t\\t\\t\\t\\t\\tVia GOP\\n\\t\\t\\t\\t\\t\\t\\t\\t\\t\\t\\t\\t',\n",
       "       '1-stop\\n\\t\\t\\t\\t\\t\\t\\t\\t\\t\\t\\t\\tVia Raipur\\n\\t\\t\\t\\t\\t\\t\\t\\t\\t\\t\\t\\t',\n",
       "       '1-stop\\n\\t\\t\\t\\t\\t\\t\\t\\t\\t\\t\\t\\tVia Nagpur\\n\\t\\t\\t\\t\\t\\t\\t\\t\\t\\t\\t\\t',\n",
       "       '1-stop\\n\\t\\t\\t\\t\\t\\t\\t\\t\\t\\t\\t\\tVia Surat\\n\\t\\t\\t\\t\\t\\t\\t\\t\\t\\t\\t\\t',\n",
       "       '1-stop\\n\\t\\t\\t\\t\\t\\t\\t\\t\\t\\t\\t\\tVia Hyderabad\\n\\t\\t\\t\\t\\t\\t\\t\\t\\t\\t\\t\\t',\n",
       "       '1-stop\\n\\t\\t\\t\\t\\t\\t\\t\\t\\t\\t\\t\\tVia STV\\n\\t\\t\\t\\t\\t\\t\\t\\t\\t\\t\\t\\t',\n",
       "       '1-stop\\n\\t\\t\\t\\t\\t\\t\\t\\t\\t\\t\\t\\tVia IDR\\n\\t\\t\\t\\t\\t\\t\\t\\t\\t\\t\\t\\t',\n",
       "       '1-stop\\n\\t\\t\\t\\t\\t\\t\\t\\t\\t\\t\\t\\tVia VTZ\\n\\t\\t\\t\\t\\t\\t\\t\\t\\t\\t\\t\\t',\n",
       "       '1-stop\\n\\t\\t\\t\\t\\t\\t\\t\\t\\t\\t\\t\\tVia Guwahati\\n\\t\\t\\t\\t\\t\\t\\t\\t\\t\\t\\t\\t',\n",
       "       '1-stop\\n\\t\\t\\t\\t\\t\\t\\t\\t\\t\\t\\t\\tVia NAG\\n\\t\\t\\t\\t\\t\\t\\t\\t\\t\\t\\t\\t',\n",
       "       '1-stop\\n\\t\\t\\t\\t\\t\\t\\t\\t\\t\\t\\t\\tVia Vishakhapatnam\\n\\t\\t\\t\\t\\t\\t\\t\\t\\t\\t\\t\\t',\n",
       "       '1-stop\\n\\t\\t\\t\\t\\t\\t\\t\\t\\t\\t\\t\\tVia NDC\\n\\t\\t\\t\\t\\t\\t\\t\\t\\t\\t\\t\\t',\n",
       "       '1-stop\\n\\t\\t\\t\\t\\t\\t\\t\\t\\t\\t\\t\\tVia IXE\\n\\t\\t\\t\\t\\t\\t\\t\\t\\t\\t\\t\\t',\n",
       "       '1-stop\\n\\t\\t\\t\\t\\t\\t\\t\\t\\t\\t\\t\\tVia Patna\\n\\t\\t\\t\\t\\t\\t\\t\\t\\t\\t\\t\\t',\n",
       "       '1-stop\\n\\t\\t\\t\\t\\t\\t\\t\\t\\t\\t\\t\\tVia PAT\\n\\t\\t\\t\\t\\t\\t\\t\\t\\t\\t\\t\\t',\n",
       "       '1-stop\\n\\t\\t\\t\\t\\t\\t\\t\\t\\t\\t\\t\\tVia Mangalore\\n\\t\\t\\t\\t\\t\\t\\t\\t\\t\\t\\t\\t',\n",
       "       '1-stop\\n\\t\\t\\t\\t\\t\\t\\t\\t\\t\\t\\t\\tVia Mumbai\\n\\t\\t\\t\\t\\t\\t\\t\\t\\t\\t\\t\\t',\n",
       "       '1-stop\\n\\t\\t\\t\\t\\t\\t\\t\\t\\t\\t\\t\\tVia KLH\\n\\t\\t\\t\\t\\t\\t\\t\\t\\t\\t\\t\\t',\n",
       "       '1-stop\\n\\t\\t\\t\\t\\t\\t\\t\\t\\t\\t\\t\\tVia MYQ\\n\\t\\t\\t\\t\\t\\t\\t\\t\\t\\t\\t\\t',\n",
       "       '1-stop\\n\\t\\t\\t\\t\\t\\t\\t\\t\\t\\t\\t\\tVia Kolkata\\n\\t\\t\\t\\t\\t\\t\\t\\t\\t\\t\\t\\t',\n",
       "       '1-stop\\n\\t\\t\\t\\t\\t\\t\\t\\t\\t\\t\\t\\tVia Delhi\\n\\t\\t\\t\\t\\t\\t\\t\\t\\t\\t\\t\\t',\n",
       "       '1-stop\\n\\t\\t\\t\\t\\t\\t\\t\\t\\t\\t\\t\\tVia Kolhapur\\n\\t\\t\\t\\t\\t\\t\\t\\t\\t\\t\\t\\t',\n",
       "       '1-stop\\n\\t\\t\\t\\t\\t\\t\\t\\t\\t\\t\\t\\tVia JRG\\n\\t\\t\\t\\t\\t\\t\\t\\t\\t\\t\\t\\t',\n",
       "       '1-stop\\n\\t\\t\\t\\t\\t\\t\\t\\t\\t\\t\\t\\tVia Bhubaneswar\\n\\t\\t\\t\\t\\t\\t\\t\\t\\t\\t\\t\\t',\n",
       "       '1-stop\\n\\t\\t\\t\\t\\t\\t\\t\\t\\t\\t\\t\\tVia Ranchi\\n\\t\\t\\t\\t\\t\\t\\t\\t\\t\\t\\t\\t',\n",
       "       '1-stop\\n\\t\\t\\t\\t\\t\\t\\t\\t\\t\\t\\t\\tVia IXR\\n\\t\\t\\t\\t\\t\\t\\t\\t\\t\\t\\t\\t',\n",
       "       '1-stop\\n\\t\\t\\t\\t\\t\\t\\t\\t\\t\\t\\t\\tVia JGB\\n\\t\\t\\t\\t\\t\\t\\t\\t\\t\\t\\t\\t',\n",
       "       '1-stop\\n\\t\\t\\t\\t\\t\\t\\t\\t\\t\\t\\t\\tVia BBI\\n\\t\\t\\t\\t\\t\\t\\t\\t\\t\\t\\t\\t',\n",
       "       '1-stop\\n\\t\\t\\t\\t\\t\\t\\t\\t\\t\\t\\t\\tVia Mysore\\n\\t\\t\\t\\t\\t\\t\\t\\t\\t\\t\\t\\t',\n",
       "       '1-stop\\n\\t\\t\\t\\t\\t\\t\\t\\t\\t\\t\\t\\tVia GAY\\n\\t\\t\\t\\t\\t\\t\\t\\t\\t\\t\\t\\t',\n",
       "       '1-stop\\n\\t\\t\\t\\t\\t\\t\\t\\t\\t\\t\\t\\tVia GAU\\n\\t\\t\\t\\t\\t\\t\\t\\t\\t\\t\\t\\t',\n",
       "       '1-stop\\n\\t\\t\\t\\t\\t\\t\\t\\t\\t\\t\\t\\tVia HYD\\n\\t\\t\\t\\t\\t\\t\\t\\t\\t\\t\\t\\t'],\n",
       "      dtype=object)"
      ]
     },
     "execution_count": 44,
     "metadata": {},
     "output_type": "execute_result"
    }
   ],
   "source": [
    "df.stops.unique()"
   ]
  },
  {
   "cell_type": "code",
   "execution_count": 45,
   "id": "20092657",
   "metadata": {},
   "outputs": [
    {
     "data": {
      "text/html": [
       "<div>\n",
       "<style scoped>\n",
       "    .dataframe tbody tr th:only-of-type {\n",
       "        vertical-align: middle;\n",
       "    }\n",
       "\n",
       "    .dataframe tbody tr th {\n",
       "        vertical-align: top;\n",
       "    }\n",
       "\n",
       "    .dataframe thead th {\n",
       "        text-align: right;\n",
       "    }\n",
       "</style>\n",
       "<table border=\"1\" class=\"dataframe\">\n",
       "  <thead>\n",
       "    <tr style=\"text-align: right;\">\n",
       "      <th></th>\n",
       "      <th>airline</th>\n",
       "      <th>departure_time</th>\n",
       "      <th>source_city</th>\n",
       "      <th>duration</th>\n",
       "      <th>stops</th>\n",
       "      <th>arrival_time</th>\n",
       "      <th>destination_city</th>\n",
       "      <th>price</th>\n",
       "      <th>class</th>\n",
       "      <th>flight</th>\n",
       "      <th>Journey_Month</th>\n",
       "      <th>Journey_Week</th>\n",
       "    </tr>\n",
       "  </thead>\n",
       "  <tbody>\n",
       "    <tr>\n",
       "      <th>0</th>\n",
       "      <td>SpiceJet</td>\n",
       "      <td>Evening</td>\n",
       "      <td>Delhi</td>\n",
       "      <td>2.17</td>\n",
       "      <td>0</td>\n",
       "      <td>Night</td>\n",
       "      <td>Mumbai</td>\n",
       "      <td>5,953</td>\n",
       "      <td>economy</td>\n",
       "      <td>SG-8709</td>\n",
       "      <td>2</td>\n",
       "      <td>4</td>\n",
       "    </tr>\n",
       "  </tbody>\n",
       "</table>\n",
       "</div>"
      ],
      "text/plain": [
       "    airline departure_time source_city  duration  stops arrival_time  \\\n",
       "0  SpiceJet        Evening       Delhi      2.17      0        Night   \n",
       "\n",
       "  destination_city  price    class   flight  Journey_Month  Journey_Week  \n",
       "0           Mumbai  5,953  economy  SG-8709              2             4  "
      ]
     },
     "execution_count": 45,
     "metadata": {},
     "output_type": "execute_result"
    }
   ],
   "source": [
    "df[\"stops\"] = df[\"stops\"].apply(lambda r: re.sub(\"[^0-9]\",\"\",r))\n",
    "df['stops']=np.where(df['stops']==\"\",0,df['stops'])\n",
    "df['stops']=df['stops'].astype(int)\n",
    "df.head(1)"
   ]
  },
  {
   "cell_type": "code",
   "execution_count": 46,
   "id": "530c3f06",
   "metadata": {},
   "outputs": [
    {
     "data": {
      "text/plain": [
       "array(['5,953', '5,956', '5,955', ..., '87,051', '74,731', '77,105'],\n",
       "      dtype=object)"
      ]
     },
     "execution_count": 46,
     "metadata": {},
     "output_type": "execute_result"
    }
   ],
   "source": [
    "df.price.unique()"
   ]
  },
  {
   "cell_type": "markdown",
   "id": "b806426d",
   "metadata": {},
   "source": [
    "### 8. Price column has ',' in between the price of tickets"
   ]
  },
  {
   "cell_type": "code",
   "execution_count": 47,
   "id": "9d4fc43e",
   "metadata": {},
   "outputs": [
    {
     "data": {
      "text/html": [
       "<div>\n",
       "<style scoped>\n",
       "    .dataframe tbody tr th:only-of-type {\n",
       "        vertical-align: middle;\n",
       "    }\n",
       "\n",
       "    .dataframe tbody tr th {\n",
       "        vertical-align: top;\n",
       "    }\n",
       "\n",
       "    .dataframe thead th {\n",
       "        text-align: right;\n",
       "    }\n",
       "</style>\n",
       "<table border=\"1\" class=\"dataframe\">\n",
       "  <thead>\n",
       "    <tr style=\"text-align: right;\">\n",
       "      <th></th>\n",
       "      <th>airline</th>\n",
       "      <th>departure_time</th>\n",
       "      <th>source_city</th>\n",
       "      <th>duration</th>\n",
       "      <th>stops</th>\n",
       "      <th>arrival_time</th>\n",
       "      <th>destination_city</th>\n",
       "      <th>price</th>\n",
       "      <th>class</th>\n",
       "      <th>flight</th>\n",
       "      <th>Journey_Month</th>\n",
       "      <th>Journey_Week</th>\n",
       "    </tr>\n",
       "  </thead>\n",
       "  <tbody>\n",
       "    <tr>\n",
       "      <th>0</th>\n",
       "      <td>SpiceJet</td>\n",
       "      <td>Evening</td>\n",
       "      <td>Delhi</td>\n",
       "      <td>2.17</td>\n",
       "      <td>0</td>\n",
       "      <td>Night</td>\n",
       "      <td>Mumbai</td>\n",
       "      <td>5953</td>\n",
       "      <td>economy</td>\n",
       "      <td>SG-8709</td>\n",
       "      <td>2</td>\n",
       "      <td>4</td>\n",
       "    </tr>\n",
       "  </tbody>\n",
       "</table>\n",
       "</div>"
      ],
      "text/plain": [
       "    airline departure_time source_city  duration  stops arrival_time  \\\n",
       "0  SpiceJet        Evening       Delhi      2.17      0        Night   \n",
       "\n",
       "  destination_city  price    class   flight  Journey_Month  Journey_Week  \n",
       "0           Mumbai   5953  economy  SG-8709              2             4  "
      ]
     },
     "execution_count": 47,
     "metadata": {},
     "output_type": "execute_result"
    }
   ],
   "source": [
    "df[\"price\"] = df[\"price\"].apply(lambda r: re.sub(\"[^0-9]\",\"\",r))\n",
    "df['price']=df['price'].astype(int)\n",
    "df.head(1)"
   ]
  },
  {
   "cell_type": "code",
   "execution_count": 48,
   "id": "af49c31e",
   "metadata": {},
   "outputs": [
    {
     "data": {
      "text/plain": [
       "array([ 5953,  5956,  5955, ..., 87051, 74731, 77105])"
      ]
     },
     "execution_count": 48,
     "metadata": {},
     "output_type": "execute_result"
    }
   ],
   "source": [
    "df.price.unique()"
   ]
  },
  {
   "cell_type": "markdown",
   "id": "b78c67f4",
   "metadata": {},
   "source": [
    "### 9. Arranging the new features"
   ]
  },
  {
   "cell_type": "code",
   "execution_count": 49,
   "id": "0ffce817",
   "metadata": {},
   "outputs": [
    {
     "data": {
      "text/plain": [
       "Index(['airline', 'departure_time', 'source_city', 'duration', 'stops',\n",
       "       'arrival_time', 'destination_city', 'price', 'class', 'flight',\n",
       "       'Journey_Month', 'Journey_Week'],\n",
       "      dtype='object')"
      ]
     },
     "execution_count": 49,
     "metadata": {},
     "output_type": "execute_result"
    }
   ],
   "source": [
    "df.columns"
   ]
  },
  {
   "cell_type": "code",
   "execution_count": 50,
   "id": "2154fb64",
   "metadata": {},
   "outputs": [],
   "source": [
    "df=df[[\"airline\",\"flight\",\"source_city\",\"departure_time\",\"stops\",\n",
    "     \"arrival_time\",\"destination_city\",\"class\",\"duration\",\"Journey_Month\",\"Journey_Week\",\"price\"]]"
   ]
  },
  {
   "cell_type": "code",
   "execution_count": 51,
   "id": "46e71ce8",
   "metadata": {},
   "outputs": [
    {
     "data": {
      "text/html": [
       "<div>\n",
       "<style scoped>\n",
       "    .dataframe tbody tr th:only-of-type {\n",
       "        vertical-align: middle;\n",
       "    }\n",
       "\n",
       "    .dataframe tbody tr th {\n",
       "        vertical-align: top;\n",
       "    }\n",
       "\n",
       "    .dataframe thead th {\n",
       "        text-align: right;\n",
       "    }\n",
       "</style>\n",
       "<table border=\"1\" class=\"dataframe\">\n",
       "  <thead>\n",
       "    <tr style=\"text-align: right;\">\n",
       "      <th></th>\n",
       "      <th>airline</th>\n",
       "      <th>flight</th>\n",
       "      <th>source_city</th>\n",
       "      <th>departure_time</th>\n",
       "      <th>stops</th>\n",
       "      <th>arrival_time</th>\n",
       "      <th>destination_city</th>\n",
       "      <th>class</th>\n",
       "      <th>duration</th>\n",
       "      <th>Journey_Month</th>\n",
       "      <th>Journey_Week</th>\n",
       "      <th>price</th>\n",
       "    </tr>\n",
       "  </thead>\n",
       "  <tbody>\n",
       "    <tr>\n",
       "      <th>0</th>\n",
       "      <td>SpiceJet</td>\n",
       "      <td>SG-8709</td>\n",
       "      <td>Delhi</td>\n",
       "      <td>Evening</td>\n",
       "      <td>0</td>\n",
       "      <td>Night</td>\n",
       "      <td>Mumbai</td>\n",
       "      <td>economy</td>\n",
       "      <td>2.17</td>\n",
       "      <td>2</td>\n",
       "      <td>4</td>\n",
       "      <td>5953</td>\n",
       "    </tr>\n",
       "    <tr>\n",
       "      <th>1</th>\n",
       "      <td>SpiceJet</td>\n",
       "      <td>SG-8157</td>\n",
       "      <td>Delhi</td>\n",
       "      <td>Early Morning</td>\n",
       "      <td>0</td>\n",
       "      <td>Morning</td>\n",
       "      <td>Mumbai</td>\n",
       "      <td>economy</td>\n",
       "      <td>2.33</td>\n",
       "      <td>2</td>\n",
       "      <td>4</td>\n",
       "      <td>5953</td>\n",
       "    </tr>\n",
       "    <tr>\n",
       "      <th>2</th>\n",
       "      <td>AirAsia</td>\n",
       "      <td>I5-764</td>\n",
       "      <td>Delhi</td>\n",
       "      <td>Early Morning</td>\n",
       "      <td>0</td>\n",
       "      <td>Early Morning</td>\n",
       "      <td>Mumbai</td>\n",
       "      <td>economy</td>\n",
       "      <td>2.17</td>\n",
       "      <td>2</td>\n",
       "      <td>4</td>\n",
       "      <td>5956</td>\n",
       "    </tr>\n",
       "    <tr>\n",
       "      <th>3</th>\n",
       "      <td>Vistara</td>\n",
       "      <td>UK-995</td>\n",
       "      <td>Delhi</td>\n",
       "      <td>Morning</td>\n",
       "      <td>0</td>\n",
       "      <td>Afternoon</td>\n",
       "      <td>Mumbai</td>\n",
       "      <td>economy</td>\n",
       "      <td>2.25</td>\n",
       "      <td>2</td>\n",
       "      <td>4</td>\n",
       "      <td>5955</td>\n",
       "    </tr>\n",
       "    <tr>\n",
       "      <th>4</th>\n",
       "      <td>Vistara</td>\n",
       "      <td>UK-963</td>\n",
       "      <td>Delhi</td>\n",
       "      <td>Morning</td>\n",
       "      <td>0</td>\n",
       "      <td>Morning</td>\n",
       "      <td>Mumbai</td>\n",
       "      <td>economy</td>\n",
       "      <td>2.33</td>\n",
       "      <td>2</td>\n",
       "      <td>4</td>\n",
       "      <td>5955</td>\n",
       "    </tr>\n",
       "  </tbody>\n",
       "</table>\n",
       "</div>"
      ],
      "text/plain": [
       "    airline   flight source_city departure_time  stops   arrival_time  \\\n",
       "0  SpiceJet  SG-8709       Delhi        Evening      0          Night   \n",
       "1  SpiceJet  SG-8157       Delhi  Early Morning      0        Morning   \n",
       "2   AirAsia   I5-764       Delhi  Early Morning      0  Early Morning   \n",
       "3   Vistara   UK-995       Delhi        Morning      0      Afternoon   \n",
       "4   Vistara   UK-963       Delhi        Morning      0        Morning   \n",
       "\n",
       "  destination_city    class  duration  Journey_Month  Journey_Week  price  \n",
       "0           Mumbai  economy      2.17              2             4   5953  \n",
       "1           Mumbai  economy      2.33              2             4   5953  \n",
       "2           Mumbai  economy      2.17              2             4   5956  \n",
       "3           Mumbai  economy      2.25              2             4   5955  \n",
       "4           Mumbai  economy      2.33              2             4   5955  "
      ]
     },
     "execution_count": 51,
     "metadata": {},
     "output_type": "execute_result"
    }
   ],
   "source": [
    "df.head()"
   ]
  },
  {
   "cell_type": "markdown",
   "id": "d78d44bd",
   "metadata": {},
   "source": [
    "## EDA"
   ]
  },
  {
   "cell_type": "markdown",
   "id": "fec61eff",
   "metadata": {},
   "source": [
    "### Uni-variate distribution of every possible attribute"
   ]
  },
  {
   "cell_type": "code",
   "execution_count": 52,
   "id": "5da2715f",
   "metadata": {},
   "outputs": [],
   "source": [
    "def univariateAnalysis_numeric(column):\n",
    "    print(\"Description of \" + column)\n",
    "    print(\"----------------------------------------------------------------------------\")\n",
    "    print(df[column].describe())\n",
    "    \n",
    "    \n",
    "    plt.figure()\n",
    "    print(\"Distribution of \" + column)\n",
    "    print(\"----------------------------------------------------------------------------\")\n",
    "    sns.distplot(df[column], kde=True, color='g');\n",
    "    plt.show()\n",
    "    \n",
    "    plt.figure()\n",
    "    print(\"BoxPlot of \" + column)\n",
    "    print(\"----------------------------------------------------------------------------\")\n",
    "    ax = sns.boxplot(x=df[column])\n",
    "    plt.show()"
   ]
  },
  {
   "cell_type": "code",
   "execution_count": 53,
   "id": "52251992",
   "metadata": {},
   "outputs": [
    {
     "name": "stdout",
     "output_type": "stream",
     "text": [
      "<class 'pandas.core.frame.DataFrame'>\n",
      "Int64Index: 300259 entries, 0 to 300260\n",
      "Data columns (total 12 columns):\n",
      " #   Column            Non-Null Count   Dtype  \n",
      "---  ------            --------------   -----  \n",
      " 0   airline           300259 non-null  object \n",
      " 1   flight            300259 non-null  object \n",
      " 2   source_city       300259 non-null  object \n",
      " 3   departure_time    300259 non-null  object \n",
      " 4   stops             300259 non-null  int32  \n",
      " 5   arrival_time      300259 non-null  object \n",
      " 6   destination_city  300259 non-null  object \n",
      " 7   class             300259 non-null  object \n",
      " 8   duration          300257 non-null  float64\n",
      " 9   Journey_Month     300259 non-null  int64  \n",
      " 10  Journey_Week      300259 non-null  int64  \n",
      " 11  price             300259 non-null  int32  \n",
      "dtypes: float64(1), int32(2), int64(2), object(7)\n",
      "memory usage: 27.5+ MB\n"
     ]
    }
   ],
   "source": [
    "df.info()"
   ]
  },
  {
   "cell_type": "code",
   "execution_count": 54,
   "id": "3397f9a2",
   "metadata": {},
   "outputs": [
    {
     "data": {
      "text/plain": [
       "5"
      ]
     },
     "execution_count": 54,
     "metadata": {},
     "output_type": "execute_result"
    }
   ],
   "source": [
    "df_num = df.select_dtypes(include = ['float64', 'int32','int64'])\n",
    "lstnumericcolumns = list(df_num.columns.values)\n",
    "len(lstnumericcolumns)"
   ]
  },
  {
   "cell_type": "code",
   "execution_count": 55,
   "id": "5defb90e",
   "metadata": {},
   "outputs": [
    {
     "data": {
      "text/plain": [
       "['stops', 'duration', 'Journey_Month', 'Journey_Week', 'price']"
      ]
     },
     "execution_count": 55,
     "metadata": {},
     "output_type": "execute_result"
    }
   ],
   "source": [
    "lstnumericcolumns"
   ]
  },
  {
   "cell_type": "code",
   "execution_count": 56,
   "id": "bbc1cb76",
   "metadata": {
    "scrolled": true
   },
   "outputs": [
    {
     "name": "stdout",
     "output_type": "stream",
     "text": [
      "Description of stops\n",
      "----------------------------------------------------------------------------\n",
      "count    300259.000000\n",
      "mean          0.924212\n",
      "std           0.398189\n",
      "min           0.000000\n",
      "25%           1.000000\n",
      "50%           1.000000\n",
      "75%           1.000000\n",
      "max           2.000000\n",
      "Name: stops, dtype: float64\n",
      "Distribution of stops\n",
      "----------------------------------------------------------------------------\n"
     ]
    },
    {
     "data": {
      "image/png": "[encoded data removed]",
      "text/plain": [
       "<Figure size 432x288 with 1 Axes>"
      ]
     },
     "metadata": {
      "needs_background": "light"
     },
     "output_type": "display_data"
    },
    {
     "name": "stdout",
     "output_type": "stream",
     "text": [
      "BoxPlot of stops\n",
      "----------------------------------------------------------------------------\n"
     ]
    },
    {
     "data": {
      "image/png": "[encoded data removed]",
      "text/plain": [
       "<Figure size 432x288 with 1 Axes>"
      ]
     },
     "metadata": {
      "needs_background": "light"
     },
     "output_type": "display_data"
    },
    {
     "name": "stdout",
     "output_type": "stream",
     "text": [
      "Description of duration\n",
      "----------------------------------------------------------------------------\n",
      "count    300257.000000\n",
      "mean         12.219158\n",
      "std           7.200312\n",
      "min           0.830000\n",
      "25%           6.750000\n",
      "50%          11.250000\n",
      "75%          16.170000\n",
      "max         103.000000\n",
      "Name: duration, dtype: float64\n",
      "Distribution of duration\n",
      "----------------------------------------------------------------------------\n"
     ]
    },
    {
     "data": {
      "image/png": "[encoded data removed]",
      "text/plain": [
       "<Figure size 432x288 with 1 Axes>"
      ]
     },
     "metadata": {
      "needs_background": "light"
     },
     "output_type": "display_data"
    },
    {
     "name": "stdout",
     "output_type": "stream",
     "text": [
      "BoxPlot of duration\n",
      "----------------------------------------------------------------------------\n"
     ]
    },
    {
     "data": {
      "image/png": "[encoded data removed]",
      "text/plain": [
       "<Figure size 432x288 with 1 Axes>"
      ]
     },
     "metadata": {
      "needs_background": "light"
     },
     "output_type": "display_data"
    },
    {
     "name": "stdout",
     "output_type": "stream",
     "text": [
      "Description of Journey_Month\n",
      "----------------------------------------------------------------------------\n",
      "count    300259.000000\n",
      "mean          2.664996\n",
      "std           0.471993\n",
      "min           2.000000\n",
      "25%           2.000000\n",
      "50%           3.000000\n",
      "75%           3.000000\n",
      "max           3.000000\n",
      "Name: Journey_Month, dtype: float64\n",
      "Distribution of Journey_Month\n",
      "----------------------------------------------------------------------------\n"
     ]
    },
    {
     "data": {
      "image/png": "[encoded data removed]",
      "text/plain": [
       "<Figure size 432x288 with 1 Axes>"
      ]
     },
     "metadata": {
      "needs_background": "light"
     },
     "output_type": "display_data"
    },
    {
     "name": "stdout",
     "output_type": "stream",
     "text": [
      "BoxPlot of Journey_Month\n",
      "----------------------------------------------------------------------------\n"
     ]
    },
    {
     "data": {
      "image/png": "[encoded data removed]",
      "text/plain": [
       "<Figure size 432x288 with 1 Axes>"
      ]
     },
     "metadata": {
      "needs_background": "light"
     },
     "output_type": "display_data"
    },
    {
     "name": "stdout",
     "output_type": "stream",
     "text": [
      "Description of Journey_Week\n",
      "----------------------------------------------------------------------------\n",
      "count    300259.000000\n",
      "mean          2.954656\n",
      "std           2.003243\n",
      "min           0.000000\n",
      "25%           1.000000\n",
      "50%           3.000000\n",
      "75%           5.000000\n",
      "max           6.000000\n",
      "Name: Journey_Week, dtype: float64\n",
      "Distribution of Journey_Week\n",
      "----------------------------------------------------------------------------\n"
     ]
    },
    {
     "data": {
      "image/png": "[encoded data removed]",
      "text/plain": [
       "<Figure size 432x288 with 1 Axes>"
      ]
     },
     "metadata": {
      "needs_background": "light"
     },
     "output_type": "display_data"
    },
    {
     "name": "stdout",
     "output_type": "stream",
     "text": [
      "BoxPlot of Journey_Week\n",
      "----------------------------------------------------------------------------\n"
     ]
    },
    {
     "data": {
      "image/png": "[encoded data removed]",
      "text/plain": [
       "<Figure size 432x288 with 1 Axes>"
      ]
     },
     "metadata": {
      "needs_background": "light"
     },
     "output_type": "display_data"
    },
    {
     "name": "stdout",
     "output_type": "stream",
     "text": [
      "Description of price\n",
      "----------------------------------------------------------------------------\n",
      "count    300259.000000\n",
      "mean      20883.800386\n",
      "std       22695.962230\n",
      "min        1105.000000\n",
      "25%        4783.000000\n",
      "50%        7425.000000\n",
      "75%       42521.000000\n",
      "max      123071.000000\n",
      "Name: price, dtype: float64\n",
      "Distribution of price\n",
      "----------------------------------------------------------------------------\n"
     ]
    },
    {
     "data": {
      "image/png": "[encoded data removed]",
      "text/plain": [
       "<Figure size 432x288 with 1 Axes>"
      ]
     },
     "metadata": {
      "needs_background": "light"
     },
     "output_type": "display_data"
    },
    {
     "name": "stdout",
     "output_type": "stream",
     "text": [
      "BoxPlot of price\n",
      "----------------------------------------------------------------------------\n"
     ]
    },
    {
     "data": {
      "image/png": "[encoded data removed]",
      "text/plain": [
       "<Figure size 432x288 with 1 Axes>"
      ]
     },
     "metadata": {
      "needs_background": "light"
     },
     "output_type": "display_data"
    }
   ],
   "source": [
    "for x in lstnumericcolumns:\n",
    "    univariateAnalysis_numeric(x)"
   ]
  },
  {
   "cell_type": "markdown",
   "id": "fb897171",
   "metadata": {},
   "source": [
    "### Observations\n",
    "\n",
    "1. There are 4 numeric fields in the data\n",
    "2. The maximum number of stopovers during a flight is limited to 1.\n",
    "3. The \"duration\" column contains a significant number of outliers.\n",
    "4. The majority of flight tickets are booked in the economy class, and the price range of the tickets falls between 1105 and 123071 Rupees."
   ]
  },
  {
   "cell_type": "code",
   "execution_count": 57,
   "id": "06a9a72e",
   "metadata": {},
   "outputs": [],
   "source": [
    "def univariateAnalysis_category(cat_column, color='summer'):\n",
    "    print(\"Details of \" + cat_column)\n",
    "    print(\"----------------------------------------------------------------\")\n",
    "    print(df_cat[cat_column].value_counts())\n",
    "    plt.figure(figsize=(6, 6))\n",
    "    df_cat[cat_column].value_counts().plot.pie(title=\"Frequency Distribution of \" + cat_column, colormap=color)\n",
    "    plt.show()\n",
    "    print(\"       \")\n"
   ]
  },
  {
   "cell_type": "code",
   "execution_count": 58,
   "id": "aa7e19a6",
   "metadata": {},
   "outputs": [
    {
     "data": {
      "text/plain": [
       "['airline',\n",
       " 'flight',\n",
       " 'source_city',\n",
       " 'departure_time',\n",
       " 'arrival_time',\n",
       " 'destination_city',\n",
       " 'class']"
      ]
     },
     "execution_count": 58,
     "metadata": {},
     "output_type": "execute_result"
    }
   ],
   "source": [
    "df_cat = df.select_dtypes(include = ['object'])\n",
    "lstcatcolumns = list(df_cat.columns.values)\n",
    "lstcatcolumns"
   ]
  },
  {
   "cell_type": "code",
   "execution_count": 59,
   "id": "73b568df",
   "metadata": {},
   "outputs": [],
   "source": [
    "lstcatcolumns.remove('flight')"
   ]
  },
  {
   "cell_type": "code",
   "execution_count": 60,
   "id": "a831a0a3",
   "metadata": {
    "scrolled": true
   },
   "outputs": [
    {
     "name": "stdout",
     "output_type": "stream",
     "text": [
      "Details of airline\n",
      "----------------------------------------------------------------\n",
      "Vistara      127859\n",
      "Air India     80892\n",
      "Indigo        43120\n",
      "GO FIRST      23177\n",
      "AirAsia       16098\n",
      "SpiceJet       9011\n",
      "StarAir          61\n",
      "Trujet           41\n",
      "Name: airline, dtype: int64\n"
     ]
    },
    {
     "data": {
      "image/png": "[encoded data removed]",
      "text/plain": [
       "<Figure size 432x432 with 1 Axes>"
      ]
     },
     "metadata": {},
     "output_type": "display_data"
    },
    {
     "name": "stdout",
     "output_type": "stream",
     "text": [
      "       \n",
      "Details of source_city\n",
      "----------------------------------------------------------------\n",
      "Delhi        61343\n",
      "Mumbai       60903\n",
      "Bangalore    52106\n",
      "Kolkata      46347\n",
      "Hyderabad    40860\n",
      "Chennai      38700\n",
      "Name: source_city, dtype: int64\n"
     ]
    },
    {
     "data": {
      "image/png": "[encoded data removed]",
      "text/plain": [
       "<Figure size 432x432 with 1 Axes>"
      ]
     },
     "metadata": {},
     "output_type": "display_data"
    },
    {
     "name": "stdout",
     "output_type": "stream",
     "text": [
      "       \n",
      "Details of departure_time\n",
      "----------------------------------------------------------------\n",
      "Morning          75250\n",
      "Evening          65416\n",
      "Early Morning    62042\n",
      "Night            49504\n",
      "Afternoon        46857\n",
      "Late Night        1190\n",
      "Name: departure_time, dtype: int64\n"
     ]
    },
    {
     "data": {
      "image/png": "[encoded data removed]",
      "text/plain": [
       "<Figure size 432x432 with 1 Axes>"
      ]
     },
     "metadata": {},
     "output_type": "display_data"
    },
    {
     "name": "stdout",
     "output_type": "stream",
     "text": [
      "       \n",
      "Details of arrival_time\n",
      "----------------------------------------------------------------\n",
      "Night            93584\n",
      "Evening          77104\n",
      "Morning          63782\n",
      "Afternoon        37907\n",
      "Late Night       14001\n",
      "Early Morning    13881\n",
      "Name: arrival_time, dtype: int64\n"
     ]
    },
    {
     "data": {
      "image/png": "[encoded data removed]",
      "text/plain": [
       "<Figure size 432x432 with 1 Axes>"
      ]
     },
     "metadata": {},
     "output_type": "display_data"
    },
    {
     "name": "stdout",
     "output_type": "stream",
     "text": [
      "       \n",
      "Details of destination_city\n",
      "----------------------------------------------------------------\n",
      "Mumbai       59107\n",
      "Delhi        57361\n",
      "Bangalore    51112\n",
      "Kolkata      49535\n",
      "Hyderabad    42776\n",
      "Chennai      40368\n",
      "Name: destination_city, dtype: int64\n"
     ]
    },
    {
     "data": {
      "image/png": "[encoded data removed]",
      "text/plain": [
       "<Figure size 432x432 with 1 Axes>"
      ]
     },
     "metadata": {},
     "output_type": "display_data"
    },
    {
     "name": "stdout",
     "output_type": "stream",
     "text": [
      "       \n",
      "Details of class\n",
      "----------------------------------------------------------------\n",
      "economy     206772\n",
      "business     93487\n",
      "Name: class, dtype: int64\n"
     ]
    },
    {
     "data": {
      "image/png": "[encoded data removed]",
      "text/plain": [
       "<Figure size 432x432 with 1 Axes>"
      ]
     },
     "metadata": {},
     "output_type": "display_data"
    },
    {
     "name": "stdout",
     "output_type": "stream",
     "text": [
      "       \n"
     ]
    }
   ],
   "source": [
    "for x in lstcatcolumns:\n",
    "    univariateAnalysis_category(x)"
   ]
  },
  {
   "cell_type": "markdown",
   "id": "13f091f8",
   "metadata": {},
   "source": [
    "### Observations\n",
    "\n",
    "1. There are 7 category fields in the data\n",
    "2. The Vistara Airlines is the most preferred choice among passengers, followed by Air India in the second position. On the other hand, Trujet is the least preferred airline among the options.\n",
    "3. Delhi is the most common source city for flights, while Mumbai is the most popular destination city.\n",
    "4. Most flight departures occur in the morning, while the majority of flight arrivals take place at night."
   ]
  },
  {
   "cell_type": "code",
   "execution_count": null,
   "id": "cbd1ac58",
   "metadata": {},
   "outputs": [],
   "source": []
  },
  {
   "cell_type": "markdown",
   "id": "4fd187fa",
   "metadata": {},
   "source": [
    "### Bi-variate distribution of every possible attribute pair"
   ]
  },
  {
   "cell_type": "markdown",
   "id": "fccdf35a",
   "metadata": {},
   "source": [
    "### Checking whether the ticket prices vary based on the airlines"
   ]
  },
  {
   "cell_type": "code",
   "execution_count": 61,
   "id": "9dab31b8",
   "metadata": {},
   "outputs": [
    {
     "data": {
      "text/plain": [
       "<AxesSubplot:xlabel='airline', ylabel='price'>"
      ]
     },
     "execution_count": 61,
     "metadata": {},
     "output_type": "execute_result"
    },
    {
     "data": {
      "image/png": "[encoded data removed]",
      "text/plain": [
       "<Figure size 576x432 with 1 Axes>"
      ]
     },
     "metadata": {
      "needs_background": "light"
     },
     "output_type": "display_data"
    }
   ],
   "source": [
    "plt.figure(figsize=(8,6))\n",
    "df_sorted = df.sort_values('price', ascending=False)\n",
    "sns.barplot(x='airline',y='price',data=df_sorted,ci=None, palette='rainbow');"
   ]
  },
  {
   "cell_type": "markdown",
   "id": "f20d3a72",
   "metadata": {},
   "source": [
    "We can clearly see the price depends upon the airlines. With Vistara being the costliest and Trujet being the cheapest"
   ]
  },
  {
   "cell_type": "markdown",
   "id": "01a709fb",
   "metadata": {},
   "source": [
    "### Checking whether the ticket prices vary based on journey_month"
   ]
  },
  {
   "cell_type": "code",
   "execution_count": 62,
   "id": "423cb80d",
   "metadata": {},
   "outputs": [
    {
     "data": {
      "image/png": "[encoded data removed]",
      "text/plain": [
       "<Figure size 576x432 with 1 Axes>"
      ]
     },
     "metadata": {
      "needs_background": "light"
     },
     "output_type": "display_data"
    }
   ],
   "source": [
    "plt.figure(figsize=(8,6))\n",
    "df_sorted = df.sort_values('price', ascending=False)\n",
    "sns.barplot(x='Journey_Month',y='price',data=df_sorted,ci=None, palette='rainbow');"
   ]
  },
  {
   "cell_type": "markdown",
   "id": "039a1a86",
   "metadata": {},
   "source": [
    "We see that the total count of flight is maximum towards the month-Feb which can also be concluded from the above bar plot which shows that the sum of fare is maximum in Feb."
   ]
  },
  {
   "cell_type": "markdown",
   "id": "bbdfedb9",
   "metadata": {},
   "source": [
    "### On which day the flight price is highest?"
   ]
  },
  {
   "cell_type": "code",
   "execution_count": 63,
   "id": "43561473",
   "metadata": {},
   "outputs": [
    {
     "data": {
      "image/png": "[encoded data removed]",
      "text/plain": [
       "<Figure size 576x432 with 1 Axes>"
      ]
     },
     "metadata": {
      "needs_background": "light"
     },
     "output_type": "display_data"
    }
   ],
   "source": [
    "plt.figure(figsize=(8,6))\n",
    "sns.barplot(x='Journey_Week', y='price', data=df.sort_values('price', ascending=False), ci=None, palette='rainbow');"
   ]
  },
  {
   "cell_type": "markdown",
   "id": "ad03a4bf",
   "metadata": {},
   "source": [
    "It appears that all days have the same price, except for Saturday and Sunday, which have slightly higher prices compared to the other weekdays."
   ]
  },
  {
   "cell_type": "markdown",
   "id": "db89450b",
   "metadata": {},
   "source": [
    "### Analysing Does ticket price change based on the arrival time?"
   ]
  },
  {
   "cell_type": "code",
   "execution_count": 64,
   "id": "cec5306d",
   "metadata": {},
   "outputs": [
    {
     "data": {
      "image/png": "[encoded data removed]",
      "text/plain": [
       "<Figure size 576x432 with 1 Axes>"
      ]
     },
     "metadata": {
      "needs_background": "light"
     },
     "output_type": "display_data"
    }
   ],
   "source": [
    "plt.figure(figsize=(8,6))\n",
    "sns.barplot(x='arrival_time',y='price',data=df.sort_values('price', ascending=False),ci=None, palette='rainbow');"
   ]
  },
  {
   "cell_type": "markdown",
   "id": "55ee58fa",
   "metadata": {},
   "source": [
    "1. The ticket prices are higher for flights that arrive in the evening.\n",
    "2. The ticket prices are lower for flights that arrive late at night."
   ]
  },
  {
   "cell_type": "code",
   "execution_count": 65,
   "id": "c9b8937f",
   "metadata": {},
   "outputs": [
    {
     "data": {
      "image/png": "[encoded data removed]",
      "text/plain": [
       "<Figure size 576x432 with 1 Axes>"
      ]
     },
     "metadata": {
      "needs_background": "light"
     },
     "output_type": "display_data"
    }
   ],
   "source": [
    "plt.figure(figsize=(8,6))\n",
    "sns.barplot(x='departure_time',y='price',data=df.sort_values('price', ascending=False),ci=None, palette='rainbow');"
   ]
  },
  {
   "cell_type": "markdown",
   "id": "9542fe64",
   "metadata": {},
   "source": [
    "1. The ticket prices are higher for flights scheduled for departure at night.\n",
    "2. The ticket prices are lower for flights scheduled for departure during the late night."
   ]
  },
  {
   "cell_type": "markdown",
   "id": "48b6ca6d",
   "metadata": {},
   "source": [
    "### Analysing How the price changes with change in Source and Destination?"
   ]
  },
  {
   "cell_type": "code",
   "execution_count": 66,
   "id": "ca397b5d",
   "metadata": {},
   "outputs": [
    {
     "data": {
      "image/png": "[encoded data removed]",
      "text/plain": [
       "<Figure size 576x432 with 1 Axes>"
      ]
     },
     "metadata": {
      "needs_background": "light"
     },
     "output_type": "display_data"
    }
   ],
   "source": [
    "plt.figure(figsize=(8,6))\n",
    "df_sorted = df.sort_values('price', ascending=False)\n",
    "sns.barplot(x='source_city',y='price',data=df_sorted,ci=None, palette='rainbow')\n",
    "plt.show()"
   ]
  },
  {
   "cell_type": "markdown",
   "id": "4ac98249",
   "metadata": {},
   "source": [
    "1. Ticket Price is More for the Flights whose Source City is Kolkata.\n",
    "2. Ticket Price is Low for the Flights Having Source City as Delhi."
   ]
  },
  {
   "cell_type": "code",
   "execution_count": 67,
   "id": "06ce9e12",
   "metadata": {},
   "outputs": [
    {
     "data": {
      "image/png": "[encoded data removed]",
      "text/plain": [
       "<Figure size 576x432 with 1 Axes>"
      ]
     },
     "metadata": {
      "needs_background": "light"
     },
     "output_type": "display_data"
    }
   ],
   "source": [
    "plt.figure(figsize=(8,6))\n",
    "df_sorted = df.sort_values('price', ascending=False)\n",
    "sns.barplot(x='destination_city',y='price',data=df_sorted,ci=None, palette='rainbow')\n",
    "plt.show()"
   ]
  },
  {
   "cell_type": "markdown",
   "id": "1a8ee399",
   "metadata": {},
   "source": [
    "1. The ticket prices are higher for flights with the destination cities of Kolkata and Chennai.\n",
    "2. Ticket Price is Low for the Flights Having Destination City as Delhi."
   ]
  },
  {
   "cell_type": "markdown",
   "id": "721428e8",
   "metadata": {},
   "source": [
    "### Checking the price variation between the source and destination in each airline"
   ]
  },
  {
   "cell_type": "code",
   "execution_count": 68,
   "id": "63040576",
   "metadata": {},
   "outputs": [
    {
     "data": {
      "text/html": [
       "<div>\n",
       "<style scoped>\n",
       "    .dataframe tbody tr th:only-of-type {\n",
       "        vertical-align: middle;\n",
       "    }\n",
       "\n",
       "    .dataframe tbody tr th {\n",
       "        vertical-align: top;\n",
       "    }\n",
       "\n",
       "    .dataframe thead th {\n",
       "        text-align: right;\n",
       "    }\n",
       "</style>\n",
       "<table border=\"1\" class=\"dataframe\">\n",
       "  <thead>\n",
       "    <tr style=\"text-align: right;\">\n",
       "      <th></th>\n",
       "      <th>airline</th>\n",
       "      <th>source_city</th>\n",
       "      <th>destination_city</th>\n",
       "      <th>price</th>\n",
       "    </tr>\n",
       "  </thead>\n",
       "  <tbody>\n",
       "    <tr>\n",
       "      <th>0</th>\n",
       "      <td>Air India</td>\n",
       "      <td>Bangalore</td>\n",
       "      <td>Chennai</td>\n",
       "      <td>26765.567702</td>\n",
       "    </tr>\n",
       "    <tr>\n",
       "      <th>1</th>\n",
       "      <td>Air India</td>\n",
       "      <td>Bangalore</td>\n",
       "      <td>Delhi</td>\n",
       "      <td>20699.099886</td>\n",
       "    </tr>\n",
       "    <tr>\n",
       "      <th>2</th>\n",
       "      <td>Air India</td>\n",
       "      <td>Bangalore</td>\n",
       "      <td>Hyderabad</td>\n",
       "      <td>23395.956912</td>\n",
       "    </tr>\n",
       "    <tr>\n",
       "      <th>3</th>\n",
       "      <td>Air India</td>\n",
       "      <td>Bangalore</td>\n",
       "      <td>Kolkata</td>\n",
       "      <td>29105.826259</td>\n",
       "    </tr>\n",
       "    <tr>\n",
       "      <th>4</th>\n",
       "      <td>Air India</td>\n",
       "      <td>Bangalore</td>\n",
       "      <td>Mumbai</td>\n",
       "      <td>25625.530802</td>\n",
       "    </tr>\n",
       "    <tr>\n",
       "      <th>...</th>\n",
       "      <td>...</td>\n",
       "      <td>...</td>\n",
       "      <td>...</td>\n",
       "      <td>...</td>\n",
       "    </tr>\n",
       "    <tr>\n",
       "      <th>178</th>\n",
       "      <td>Vistara</td>\n",
       "      <td>Mumbai</td>\n",
       "      <td>Bangalore</td>\n",
       "      <td>35029.880315</td>\n",
       "    </tr>\n",
       "    <tr>\n",
       "      <th>179</th>\n",
       "      <td>Vistara</td>\n",
       "      <td>Mumbai</td>\n",
       "      <td>Chennai</td>\n",
       "      <td>32181.946251</td>\n",
       "    </tr>\n",
       "    <tr>\n",
       "      <th>180</th>\n",
       "      <td>Vistara</td>\n",
       "      <td>Mumbai</td>\n",
       "      <td>Delhi</td>\n",
       "      <td>26402.695114</td>\n",
       "    </tr>\n",
       "    <tr>\n",
       "      <th>181</th>\n",
       "      <td>Vistara</td>\n",
       "      <td>Mumbai</td>\n",
       "      <td>Hyderabad</td>\n",
       "      <td>29497.578017</td>\n",
       "    </tr>\n",
       "    <tr>\n",
       "      <th>182</th>\n",
       "      <td>Vistara</td>\n",
       "      <td>Mumbai</td>\n",
       "      <td>Kolkata</td>\n",
       "      <td>35223.862417</td>\n",
       "    </tr>\n",
       "  </tbody>\n",
       "</table>\n",
       "<p>183 rows × 4 columns</p>\n",
       "</div>"
      ],
      "text/plain": [
       "       airline source_city destination_city         price\n",
       "0    Air India   Bangalore          Chennai  26765.567702\n",
       "1    Air India   Bangalore            Delhi  20699.099886\n",
       "2    Air India   Bangalore        Hyderabad  23395.956912\n",
       "3    Air India   Bangalore          Kolkata  29105.826259\n",
       "4    Air India   Bangalore           Mumbai  25625.530802\n",
       "..         ...         ...              ...           ...\n",
       "178    Vistara      Mumbai        Bangalore  35029.880315\n",
       "179    Vistara      Mumbai          Chennai  32181.946251\n",
       "180    Vistara      Mumbai            Delhi  26402.695114\n",
       "181    Vistara      Mumbai        Hyderabad  29497.578017\n",
       "182    Vistara      Mumbai          Kolkata  35223.862417\n",
       "\n",
       "[183 rows x 4 columns]"
      ]
     },
     "execution_count": 68,
     "metadata": {},
     "output_type": "execute_result"
    }
   ],
   "source": [
    "df.groupby(['airline','source_city','destination_city'],as_index=False)['price'].mean()"
   ]
  },
  {
   "cell_type": "markdown",
   "id": "f7fe792c",
   "metadata": {},
   "source": [
    "### Checking the average prices between the cities"
   ]
  },
  {
   "cell_type": "code",
   "execution_count": 69,
   "id": "7249f9c5",
   "metadata": {},
   "outputs": [
    {
     "data": {
      "text/html": [
       "<div>\n",
       "<style scoped>\n",
       "    .dataframe tbody tr th:only-of-type {\n",
       "        vertical-align: middle;\n",
       "    }\n",
       "\n",
       "    .dataframe tbody tr th {\n",
       "        vertical-align: top;\n",
       "    }\n",
       "\n",
       "    .dataframe thead th {\n",
       "        text-align: right;\n",
       "    }\n",
       "</style>\n",
       "<table border=\"1\" class=\"dataframe\">\n",
       "  <thead>\n",
       "    <tr style=\"text-align: right;\">\n",
       "      <th>source_city</th>\n",
       "      <th>Bangalore</th>\n",
       "      <th>Chennai</th>\n",
       "      <th>Delhi</th>\n",
       "      <th>Hyderabad</th>\n",
       "      <th>Kolkata</th>\n",
       "      <th>Mumbai</th>\n",
       "    </tr>\n",
       "    <tr>\n",
       "      <th>destination_city</th>\n",
       "      <th></th>\n",
       "      <th></th>\n",
       "      <th></th>\n",
       "      <th></th>\n",
       "      <th></th>\n",
       "      <th></th>\n",
       "    </tr>\n",
       "  </thead>\n",
       "  <tbody>\n",
       "    <tr>\n",
       "      <th>Bangalore</th>\n",
       "      <td>NaN</td>\n",
       "      <td>25081.850454</td>\n",
       "      <td>17880.216315</td>\n",
       "      <td>21245.945429</td>\n",
       "      <td>22744.808428</td>\n",
       "      <td>23147.873807</td>\n",
       "    </tr>\n",
       "    <tr>\n",
       "      <th>Chennai</th>\n",
       "      <td>23321.850078</td>\n",
       "      <td>NaN</td>\n",
       "      <td>19369.881354</td>\n",
       "      <td>21848.065989</td>\n",
       "      <td>23660.361040</td>\n",
       "      <td>22781.899112</td>\n",
       "    </tr>\n",
       "    <tr>\n",
       "      <th>Delhi</th>\n",
       "      <td>17723.313972</td>\n",
       "      <td>18981.863948</td>\n",
       "      <td>NaN</td>\n",
       "      <td>17242.639473</td>\n",
       "      <td>19422.354559</td>\n",
       "      <td>18725.320008</td>\n",
       "    </tr>\n",
       "    <tr>\n",
       "      <th>Hyderabad</th>\n",
       "      <td>21152.051053</td>\n",
       "      <td>21591.345404</td>\n",
       "      <td>17347.288379</td>\n",
       "      <td>NaN</td>\n",
       "      <td>21500.011397</td>\n",
       "      <td>20992.128567</td>\n",
       "    </tr>\n",
       "    <tr>\n",
       "      <th>Kolkata</th>\n",
       "      <td>23498.234221</td>\n",
       "      <td>22669.932407</td>\n",
       "      <td>20566.409418</td>\n",
       "      <td>20823.893201</td>\n",
       "      <td>NaN</td>\n",
       "      <td>22379.146723</td>\n",
       "    </tr>\n",
       "    <tr>\n",
       "      <th>Mumbai</th>\n",
       "      <td>23127.231376</td>\n",
       "      <td>22765.849647</td>\n",
       "      <td>19355.829812</td>\n",
       "      <td>20065.715179</td>\n",
       "      <td>22078.883579</td>\n",
       "      <td>NaN</td>\n",
       "    </tr>\n",
       "  </tbody>\n",
       "</table>\n",
       "</div>"
      ],
      "text/plain": [
       "source_city          Bangalore       Chennai         Delhi     Hyderabad  \\\n",
       "destination_city                                                           \n",
       "Bangalore                  NaN  25081.850454  17880.216315  21245.945429   \n",
       "Chennai           23321.850078           NaN  19369.881354  21848.065989   \n",
       "Delhi             17723.313972  18981.863948           NaN  17242.639473   \n",
       "Hyderabad         21152.051053  21591.345404  17347.288379           NaN   \n",
       "Kolkata           23498.234221  22669.932407  20566.409418  20823.893201   \n",
       "Mumbai            23127.231376  22765.849647  19355.829812  20065.715179   \n",
       "\n",
       "source_city            Kolkata        Mumbai  \n",
       "destination_city                              \n",
       "Bangalore         22744.808428  23147.873807  \n",
       "Chennai           23660.361040  22781.899112  \n",
       "Delhi             19422.354559  18725.320008  \n",
       "Hyderabad         21500.011397  20992.128567  \n",
       "Kolkata                    NaN  22379.146723  \n",
       "Mumbai            22078.883579           NaN  "
      ]
     },
     "execution_count": 69,
     "metadata": {},
     "output_type": "execute_result"
    }
   ],
   "source": [
    "pd.pivot_table(data=df,columns='source_city',index='destination_city',values='price')"
   ]
  },
  {
   "cell_type": "markdown",
   "id": "d93e2e02",
   "metadata": {},
   "source": [
    "### Plotting the information regarding price variance between cities"
   ]
  },
  {
   "cell_type": "code",
   "execution_count": 70,
   "id": "24bc062b",
   "metadata": {},
   "outputs": [
    {
     "data": {
      "image/png": "[encoded data removed]",
      "text/plain": [
       "<Figure size 1080x432 with 1 Axes>"
      ]
     },
     "metadata": {
      "needs_background": "light"
     },
     "output_type": "display_data"
    }
   ],
   "source": [
    "table = pd.crosstab(columns=df[\"source_city\"], index=df[\"destination_city\"], values=df[\"price\"], aggfunc=\"mean\")\n",
    "table.plot(kind=\"bar\", figsize=(15,6))\n",
    "plt.show()"
   ]
  },
  {
   "cell_type": "markdown",
   "id": "1a9948d6",
   "metadata": {},
   "source": [
    "The ticket prices from Bangalore exhibit significant variation. Specifically, the flight from Bangalore to Chennai has the highest fare among the available routes."
   ]
  },
  {
   "cell_type": "markdown",
   "id": "ac7c0b8c",
   "metadata": {},
   "source": [
    "### Analyzing how does the ticket price vary between the Economy class and bussiness class"
   ]
  },
  {
   "cell_type": "code",
   "execution_count": 71,
   "id": "a952a7ce",
   "metadata": {},
   "outputs": [
    {
     "data": {
      "image/png": "[encoded data removed]",
      "text/plain": [
       "<Figure size 432x288 with 1 Axes>"
      ]
     },
     "metadata": {
      "needs_background": "light"
     },
     "output_type": "display_data"
    }
   ],
   "source": [
    "sns.barplot(x='class',y='price',data=df)\n",
    "plt.show()"
   ]
  },
  {
   "cell_type": "markdown",
   "id": "ec733c29",
   "metadata": {},
   "source": [
    "The business class price is higher than economy class"
   ]
  },
  {
   "cell_type": "markdown",
   "id": "ae18e972",
   "metadata": {},
   "source": [
    "### Multivariate Analysis"
   ]
  },
  {
   "cell_type": "markdown",
   "id": "a680651e",
   "metadata": {},
   "source": [
    "#### How Journey_month is affecting the price of different airlines?"
   ]
  },
  {
   "cell_type": "code",
   "execution_count": 72,
   "id": "3c0770ce",
   "metadata": {},
   "outputs": [
    {
     "data": {
      "image/png": "[encoded data removed]",
      "text/plain": [
       "<Figure size 576x432 with 1 Axes>"
      ]
     },
     "metadata": {
      "needs_background": "light"
     },
     "output_type": "display_data"
    }
   ],
   "source": [
    "plt.figure(figsize=(8,6))\n",
    "sns.barplot(x='airline',y='price',data=df,hue='Journey_Month',ci=None, palette='summer');"
   ]
  },
  {
   "cell_type": "markdown",
   "id": "8e29b626",
   "metadata": {},
   "source": [
    "Vistara has the highest number of tickets booked both Feb and March. "
   ]
  },
  {
   "cell_type": "code",
   "execution_count": 73,
   "id": "6407ed19",
   "metadata": {},
   "outputs": [
    {
     "data": {
      "text/plain": [
       "Index(['airline', 'flight', 'source_city', 'departure_time', 'stops',\n",
       "       'arrival_time', 'destination_city', 'class', 'duration',\n",
       "       'Journey_Month', 'Journey_Week', 'price'],\n",
       "      dtype='object')"
      ]
     },
     "execution_count": 73,
     "metadata": {},
     "output_type": "execute_result"
    }
   ],
   "source": [
    "df.columns"
   ]
  },
  {
   "cell_type": "markdown",
   "id": "823ecdfc",
   "metadata": {},
   "source": [
    "#### Which city has the maximum number of business class bookings?"
   ]
  },
  {
   "cell_type": "code",
   "execution_count": 74,
   "id": "df0e8c78",
   "metadata": {},
   "outputs": [
    {
     "data": {
      "image/png": "[encoded data removed]",
      "text/plain": [
       "<Figure size 576x432 with 1 Axes>"
      ]
     },
     "metadata": {
      "needs_background": "light"
     },
     "output_type": "display_data"
    }
   ],
   "source": [
    "plt.figure(figsize=(8,6))\n",
    "sns.barplot(x='source_city',y='price',data=df,hue='class',ci=None, palette='summer');"
   ]
  },
  {
   "cell_type": "markdown",
   "id": "9c2bde41",
   "metadata": {},
   "source": [
    "It looks like Kolkata has the highest no of business class ticket bookings."
   ]
  },
  {
   "cell_type": "code",
   "execution_count": null,
   "id": "d1693b86",
   "metadata": {},
   "outputs": [],
   "source": []
  },
  {
   "cell_type": "markdown",
   "id": "412ed813",
   "metadata": {},
   "source": [
    "### Heatmap"
   ]
  },
  {
   "cell_type": "code",
   "execution_count": 75,
   "id": "c0fa9ede",
   "metadata": {},
   "outputs": [
    {
     "data": {
      "image/png": "[encoded data removed]",
      "text/plain": [
       "<Figure size 432x288 with 2 Axes>"
      ]
     },
     "metadata": {
      "needs_background": "light"
     },
     "output_type": "display_data"
    }
   ],
   "source": [
    "sns.heatmap(df.corr(),annot=True)\n",
    "plt.show();"
   ]
  },
  {
   "cell_type": "markdown",
   "id": "23e95094",
   "metadata": {},
   "source": [
    "There is no multicolinearity in our independent columns."
   ]
  },
  {
   "cell_type": "code",
   "execution_count": 76,
   "id": "ac99be3a",
   "metadata": {},
   "outputs": [
    {
     "data": {
      "image/png": "[encoded data removed]",
      "text/plain": [
       "<Figure size 981.5x900 with 30 Axes>"
      ]
     },
     "metadata": {
      "needs_background": "light"
     },
     "output_type": "display_data"
    }
   ],
   "source": [
    "sns.pairplot(df,hue='class');"
   ]
  },
  {
   "cell_type": "markdown",
   "id": "9d66742c",
   "metadata": {},
   "source": [
    "## Checking Missing Values"
   ]
  },
  {
   "cell_type": "code",
   "execution_count": 77,
   "id": "109f1ce2",
   "metadata": {},
   "outputs": [
    {
     "data": {
      "text/plain": [
       "airline             0\n",
       "flight              0\n",
       "source_city         0\n",
       "departure_time      0\n",
       "stops               0\n",
       "arrival_time        0\n",
       "destination_city    0\n",
       "class               0\n",
       "duration            2\n",
       "Journey_Month       0\n",
       "Journey_Week        0\n",
       "price               0\n",
       "dtype: int64"
      ]
     },
     "execution_count": 77,
     "metadata": {},
     "output_type": "execute_result"
    }
   ],
   "source": [
    "df.isnull().sum()"
   ]
  },
  {
   "cell_type": "markdown",
   "id": "861673a4",
   "metadata": {},
   "source": [
    "### Missing value Treatment"
   ]
  },
  {
   "cell_type": "code",
   "execution_count": 78,
   "id": "1a4bbfcf",
   "metadata": {},
   "outputs": [],
   "source": [
    "df.dropna(inplace=True)"
   ]
  },
  {
   "cell_type": "code",
   "execution_count": 79,
   "id": "3f5478df",
   "metadata": {},
   "outputs": [],
   "source": [
    "# Dropping missing values in duration column due to very less in no."
   ]
  },
  {
   "cell_type": "markdown",
   "id": "ddbe036a",
   "metadata": {},
   "source": [
    "## Outlier Checking & Treatment"
   ]
  },
  {
   "cell_type": "code",
   "execution_count": 80,
   "id": "70a2d64b",
   "metadata": {},
   "outputs": [
    {
     "data": {
      "image/png": "[encoded data removed]",
      "text/plain": [
       "<Figure size 432x288 with 1 Axes>"
      ]
     },
     "metadata": {
      "needs_background": "light"
     },
     "output_type": "display_data"
    }
   ],
   "source": [
    "df.boxplot(column='duration')\n",
    "plt.show()"
   ]
  },
  {
   "cell_type": "markdown",
   "id": "54bcd533",
   "metadata": {},
   "source": [
    "We have identified outliers in the duration feature, but instead of replacing them, we will minimize their impact. The duration represents the actual time taken by a flight from the source to the destination, and we will consider it as real-time data."
   ]
  },
  {
   "cell_type": "markdown",
   "id": "ead2572f",
   "metadata": {},
   "source": [
    "### Dropping unnecessey column"
   ]
  },
  {
   "cell_type": "markdown",
   "id": "5caed2d5",
   "metadata": {},
   "source": [
    "We dont need the flight column as we are getting the more information from airline column. So we will drop the flight column."
   ]
  },
  {
   "cell_type": "code",
   "execution_count": 81,
   "id": "5b4cac20",
   "metadata": {},
   "outputs": [
    {
     "data": {
      "text/html": [
       "<div>\n",
       "<style scoped>\n",
       "    .dataframe tbody tr th:only-of-type {\n",
       "        vertical-align: middle;\n",
       "    }\n",
       "\n",
       "    .dataframe tbody tr th {\n",
       "        vertical-align: top;\n",
       "    }\n",
       "\n",
       "    .dataframe thead th {\n",
       "        text-align: right;\n",
       "    }\n",
       "</style>\n",
       "<table border=\"1\" class=\"dataframe\">\n",
       "  <thead>\n",
       "    <tr style=\"text-align: right;\">\n",
       "      <th></th>\n",
       "      <th>airline</th>\n",
       "      <th>source_city</th>\n",
       "      <th>departure_time</th>\n",
       "      <th>stops</th>\n",
       "      <th>arrival_time</th>\n",
       "      <th>destination_city</th>\n",
       "      <th>class</th>\n",
       "      <th>duration</th>\n",
       "      <th>Journey_Month</th>\n",
       "      <th>Journey_Week</th>\n",
       "      <th>price</th>\n",
       "    </tr>\n",
       "  </thead>\n",
       "  <tbody>\n",
       "    <tr>\n",
       "      <th>0</th>\n",
       "      <td>SpiceJet</td>\n",
       "      <td>Delhi</td>\n",
       "      <td>Evening</td>\n",
       "      <td>0</td>\n",
       "      <td>Night</td>\n",
       "      <td>Mumbai</td>\n",
       "      <td>economy</td>\n",
       "      <td>2.17</td>\n",
       "      <td>2</td>\n",
       "      <td>4</td>\n",
       "      <td>5953</td>\n",
       "    </tr>\n",
       "  </tbody>\n",
       "</table>\n",
       "</div>"
      ],
      "text/plain": [
       "    airline source_city departure_time  stops arrival_time destination_city  \\\n",
       "0  SpiceJet       Delhi        Evening      0        Night           Mumbai   \n",
       "\n",
       "     class  duration  Journey_Month  Journey_Week  price  \n",
       "0  economy      2.17              2             4   5953  "
      ]
     },
     "execution_count": 81,
     "metadata": {},
     "output_type": "execute_result"
    }
   ],
   "source": [
    "df1=df.drop('flight',axis=1)\n",
    "df1.head(1)"
   ]
  },
  {
   "cell_type": "markdown",
   "id": "2d518050",
   "metadata": {},
   "source": [
    "## Encoding"
   ]
  },
  {
   "cell_type": "markdown",
   "id": "0ba5838f",
   "metadata": {},
   "source": [
    "**Since we have ordinal data in the features mentioned below:**\n",
    "\n",
    "1. Departure time\n",
    "2. Arrival time\n",
    "3. Class\n",
    "\n",
    "We can directly replace them based on their order."
   ]
  },
  {
   "cell_type": "code",
   "execution_count": 82,
   "id": "04fab48e",
   "metadata": {},
   "outputs": [
    {
     "data": {
      "text/html": [
       "<div>\n",
       "<style scoped>\n",
       "    .dataframe tbody tr th:only-of-type {\n",
       "        vertical-align: middle;\n",
       "    }\n",
       "\n",
       "    .dataframe tbody tr th {\n",
       "        vertical-align: top;\n",
       "    }\n",
       "\n",
       "    .dataframe thead th {\n",
       "        text-align: right;\n",
       "    }\n",
       "</style>\n",
       "<table border=\"1\" class=\"dataframe\">\n",
       "  <thead>\n",
       "    <tr style=\"text-align: right;\">\n",
       "      <th></th>\n",
       "      <th>airline</th>\n",
       "      <th>source_city</th>\n",
       "      <th>departure_time</th>\n",
       "      <th>stops</th>\n",
       "      <th>arrival_time</th>\n",
       "      <th>destination_city</th>\n",
       "      <th>class</th>\n",
       "      <th>duration</th>\n",
       "      <th>Journey_Month</th>\n",
       "      <th>Journey_Week</th>\n",
       "      <th>price</th>\n",
       "    </tr>\n",
       "  </thead>\n",
       "  <tbody>\n",
       "    <tr>\n",
       "      <th>0</th>\n",
       "      <td>SpiceJet</td>\n",
       "      <td>Delhi</td>\n",
       "      <td>4</td>\n",
       "      <td>0</td>\n",
       "      <td>5</td>\n",
       "      <td>Mumbai</td>\n",
       "      <td>0</td>\n",
       "      <td>2.17</td>\n",
       "      <td>2</td>\n",
       "      <td>4</td>\n",
       "      <td>5953</td>\n",
       "    </tr>\n",
       "    <tr>\n",
       "      <th>1</th>\n",
       "      <td>SpiceJet</td>\n",
       "      <td>Delhi</td>\n",
       "      <td>1</td>\n",
       "      <td>0</td>\n",
       "      <td>2</td>\n",
       "      <td>Mumbai</td>\n",
       "      <td>0</td>\n",
       "      <td>2.33</td>\n",
       "      <td>2</td>\n",
       "      <td>4</td>\n",
       "      <td>5953</td>\n",
       "    </tr>\n",
       "    <tr>\n",
       "      <th>2</th>\n",
       "      <td>AirAsia</td>\n",
       "      <td>Delhi</td>\n",
       "      <td>1</td>\n",
       "      <td>0</td>\n",
       "      <td>1</td>\n",
       "      <td>Mumbai</td>\n",
       "      <td>0</td>\n",
       "      <td>2.17</td>\n",
       "      <td>2</td>\n",
       "      <td>4</td>\n",
       "      <td>5956</td>\n",
       "    </tr>\n",
       "  </tbody>\n",
       "</table>\n",
       "</div>"
      ],
      "text/plain": [
       "    airline source_city  departure_time  stops  arrival_time destination_city  \\\n",
       "0  SpiceJet       Delhi               4      0             5           Mumbai   \n",
       "1  SpiceJet       Delhi               1      0             2           Mumbai   \n",
       "2   AirAsia       Delhi               1      0             1           Mumbai   \n",
       "\n",
       "   class  duration  Journey_Month  Journey_Week  price  \n",
       "0      0      2.17              2             4   5953  \n",
       "1      0      2.33              2             4   5953  \n",
       "2      0      2.17              2             4   5956  "
      ]
     },
     "execution_count": 82,
     "metadata": {},
     "output_type": "execute_result"
    }
   ],
   "source": [
    "df1[\"departure_time\"].replace({'Late Night':0,'Early Morning':1,'Morning':2,'Afternoon':3,'Evening':4,'Night':5},\n",
    "                              inplace = True)\n",
    "df1[\"arrival_time\"].replace({'Late Night':0,'Early Morning':1,'Morning':2,'Afternoon':3,'Evening':4,'Night':5},\n",
    "                              inplace = True)\n",
    "df1[\"class\"].replace({\"economy\":0,\"business\":1},inplace=True)\n",
    "df1[\"Journey_Month\"].replace({\"2\":0,\"3\":1})\n",
    "df1.head(3)"
   ]
  },
  {
   "cell_type": "markdown",
   "id": "a2df6ebd",
   "metadata": {},
   "source": [
    "### One Hot Encoding"
   ]
  },
  {
   "cell_type": "code",
   "execution_count": 83,
   "id": "232e456a",
   "metadata": {},
   "outputs": [],
   "source": [
    "df2 = pd.get_dummies(df1, columns=['airline', 'destination_city', 'source_city'], drop_first=True)"
   ]
  },
  {
   "cell_type": "code",
   "execution_count": 84,
   "id": "f31e8c19",
   "metadata": {},
   "outputs": [
    {
     "data": {
      "text/html": [
       "<div>\n",
       "<style scoped>\n",
       "    .dataframe tbody tr th:only-of-type {\n",
       "        vertical-align: middle;\n",
       "    }\n",
       "\n",
       "    .dataframe tbody tr th {\n",
       "        vertical-align: top;\n",
       "    }\n",
       "\n",
       "    .dataframe thead th {\n",
       "        text-align: right;\n",
       "    }\n",
       "</style>\n",
       "<table border=\"1\" class=\"dataframe\">\n",
       "  <thead>\n",
       "    <tr style=\"text-align: right;\">\n",
       "      <th></th>\n",
       "      <th>departure_time</th>\n",
       "      <th>stops</th>\n",
       "      <th>arrival_time</th>\n",
       "      <th>class</th>\n",
       "      <th>duration</th>\n",
       "      <th>Journey_Month</th>\n",
       "      <th>Journey_Week</th>\n",
       "      <th>price</th>\n",
       "      <th>airline_AirAsia</th>\n",
       "      <th>airline_GO FIRST</th>\n",
       "      <th>...</th>\n",
       "      <th>destination_city_Chennai</th>\n",
       "      <th>destination_city_Delhi</th>\n",
       "      <th>destination_city_Hyderabad</th>\n",
       "      <th>destination_city_Kolkata</th>\n",
       "      <th>destination_city_Mumbai</th>\n",
       "      <th>source_city_Chennai</th>\n",
       "      <th>source_city_Delhi</th>\n",
       "      <th>source_city_Hyderabad</th>\n",
       "      <th>source_city_Kolkata</th>\n",
       "      <th>source_city_Mumbai</th>\n",
       "    </tr>\n",
       "  </thead>\n",
       "  <tbody>\n",
       "    <tr>\n",
       "      <th>0</th>\n",
       "      <td>4</td>\n",
       "      <td>0</td>\n",
       "      <td>5</td>\n",
       "      <td>0</td>\n",
       "      <td>2.17</td>\n",
       "      <td>2</td>\n",
       "      <td>4</td>\n",
       "      <td>5953</td>\n",
       "      <td>0</td>\n",
       "      <td>0</td>\n",
       "      <td>...</td>\n",
       "      <td>0</td>\n",
       "      <td>0</td>\n",
       "      <td>0</td>\n",
       "      <td>0</td>\n",
       "      <td>1</td>\n",
       "      <td>0</td>\n",
       "      <td>1</td>\n",
       "      <td>0</td>\n",
       "      <td>0</td>\n",
       "      <td>0</td>\n",
       "    </tr>\n",
       "  </tbody>\n",
       "</table>\n",
       "<p>1 rows × 25 columns</p>\n",
       "</div>"
      ],
      "text/plain": [
       "   departure_time  stops  arrival_time  class  duration  Journey_Month  \\\n",
       "0               4      0             5      0      2.17              2   \n",
       "\n",
       "   Journey_Week  price  airline_AirAsia  airline_GO FIRST  ...  \\\n",
       "0             4   5953                0                 0  ...   \n",
       "\n",
       "   destination_city_Chennai  destination_city_Delhi  \\\n",
       "0                         0                       0   \n",
       "\n",
       "   destination_city_Hyderabad  destination_city_Kolkata  \\\n",
       "0                           0                         0   \n",
       "\n",
       "   destination_city_Mumbai  source_city_Chennai  source_city_Delhi  \\\n",
       "0                        1                    0                  1   \n",
       "\n",
       "   source_city_Hyderabad  source_city_Kolkata  source_city_Mumbai  \n",
       "0                      0                    0                   0  \n",
       "\n",
       "[1 rows x 25 columns]"
      ]
     },
     "execution_count": 84,
     "metadata": {},
     "output_type": "execute_result"
    }
   ],
   "source": [
    "df2.head(1)"
   ]
  },
  {
   "cell_type": "code",
   "execution_count": 85,
   "id": "6c44618f",
   "metadata": {},
   "outputs": [
    {
     "name": "stdout",
     "output_type": "stream",
     "text": [
      "<class 'pandas.core.frame.DataFrame'>\n",
      "Int64Index: 300257 entries, 0 to 300258\n",
      "Data columns (total 25 columns):\n",
      " #   Column                      Non-Null Count   Dtype  \n",
      "---  ------                      --------------   -----  \n",
      " 0   departure_time              300257 non-null  int64  \n",
      " 1   stops                       300257 non-null  int32  \n",
      " 2   arrival_time                300257 non-null  int64  \n",
      " 3   class                       300257 non-null  int64  \n",
      " 4   duration                    300257 non-null  float64\n",
      " 5   Journey_Month               300257 non-null  int64  \n",
      " 6   Journey_Week                300257 non-null  int64  \n",
      " 7   price                       300257 non-null  int32  \n",
      " 8   airline_AirAsia             300257 non-null  uint8  \n",
      " 9   airline_GO FIRST            300257 non-null  uint8  \n",
      " 10  airline_Indigo              300257 non-null  uint8  \n",
      " 11  airline_SpiceJet            300257 non-null  uint8  \n",
      " 12  airline_StarAir             300257 non-null  uint8  \n",
      " 13  airline_Trujet              300257 non-null  uint8  \n",
      " 14  airline_Vistara             300257 non-null  uint8  \n",
      " 15  destination_city_Chennai    300257 non-null  uint8  \n",
      " 16  destination_city_Delhi      300257 non-null  uint8  \n",
      " 17  destination_city_Hyderabad  300257 non-null  uint8  \n",
      " 18  destination_city_Kolkata    300257 non-null  uint8  \n",
      " 19  destination_city_Mumbai     300257 non-null  uint8  \n",
      " 20  source_city_Chennai         300257 non-null  uint8  \n",
      " 21  source_city_Delhi           300257 non-null  uint8  \n",
      " 22  source_city_Hyderabad       300257 non-null  uint8  \n",
      " 23  source_city_Kolkata         300257 non-null  uint8  \n",
      " 24  source_city_Mumbai          300257 non-null  uint8  \n",
      "dtypes: float64(1), int32(2), int64(5), uint8(17)\n",
      "memory usage: 23.2 MB\n"
     ]
    }
   ],
   "source": [
    "df2.info()"
   ]
  },
  {
   "cell_type": "markdown",
   "id": "56d7eeef",
   "metadata": {},
   "source": [
    "## Train Test Split"
   ]
  },
  {
   "cell_type": "code",
   "execution_count": 86,
   "id": "428ec5ee",
   "metadata": {},
   "outputs": [],
   "source": [
    "# separate Independent and Dependent Var into X and Y\n",
    "# X will contain all the independent variable and y will have the dependent variable\n",
    "\n",
    "x=df2.drop('price',axis=1)\n",
    "y=df2['price']"
   ]
  },
  {
   "cell_type": "code",
   "execution_count": 87,
   "id": "9e85071f",
   "metadata": {},
   "outputs": [],
   "source": [
    "# Train test Split (70:30)\n",
    "\n",
    "x_train,x_test,y_train,y_test=train_test_split(x,y,test_size=0.30,random_state=2)"
   ]
  },
  {
   "cell_type": "markdown",
   "id": "8945a40f",
   "metadata": {},
   "source": [
    "### Now all the data preprocessing and feature enginering and EDA has been.Now,lets build the model."
   ]
  },
  {
   "cell_type": "markdown",
   "id": "0cd0e399",
   "metadata": {},
   "source": [
    "# Model Building"
   ]
  },
  {
   "cell_type": "code",
   "execution_count": 88,
   "id": "539430a8",
   "metadata": {},
   "outputs": [],
   "source": [
    "### Model selection\n",
    "\n",
    "def get_prediction(model):\n",
    "    model.fit(x_train,y_train)\n",
    "    y_pred = model.predict(x_train)\n",
    "    mape_tr = mean_absolute_percentage_error(y_train,y_pred)\n",
    "    r2_tr  = r2_score(y_train,y_pred)\n",
    "    y_pred1 = model.predict(x_test)\n",
    "    mape_te = mean_absolute_percentage_error(y_test,y_pred1)\n",
    "    r2_te  = r2_score(y_test,y_pred1)\n",
    "    return print(f\"\"\"At Training: \\n%MAE: {mape_tr}\\nR2_Score: {r2_tr}\n",
    "    \\nAt Testing: \\n%MAE: {mape_te}\\nR2_Score: {r2_te}\"\"\")"
   ]
  },
  {
   "cell_type": "markdown",
   "id": "f8db9c8a",
   "metadata": {},
   "source": [
    "### Without scalling model performances"
   ]
  },
  {
   "cell_type": "code",
   "execution_count": 89,
   "id": "8a912a15",
   "metadata": {},
   "outputs": [
    {
     "name": "stdout",
     "output_type": "stream",
     "text": [
      "The Performance of Linear Regression without Scaling::\n",
      "At Training: \n",
      "%MAE: 0.4188682917499047\n",
      "R2_Score: 0.9097903808556164\n",
      "    \n",
      "At Testing: \n",
      "%MAE: 0.420357297230459\n",
      "R2_Score: 0.9081225020818555\n",
      "**************************************************\n",
      "The Performance of Decision Tree without Scaling::\n",
      "At Training: \n",
      "%MAE: 0.012365906177322738\n",
      "R2_Score: 0.998754776872001\n",
      "    \n",
      "At Testing: \n",
      "%MAE: 0.13305602545370732\n",
      "R2_Score: 0.9721288815651157\n",
      "**************************************************\n",
      "The Performance of Random Forest without Scaling::\n",
      "At Training: \n",
      "%MAE: 0.04930726422758481\n",
      "R2_Score: 0.9967677914711471\n",
      "    \n",
      "At Testing: \n",
      "%MAE: 0.11909050137808036\n",
      "R2_Score: 0.9826104545706166\n",
      "**************************************************\n"
     ]
    }
   ],
   "source": [
    "lst = [(\"Linear Regression\",LinearRegression()),(\"Decision Tree\",DecisionTreeRegressor()),\n",
    "      (\"Random Forest\",RandomForestRegressor())]\n",
    "\n",
    "for name,model in lst:\n",
    "    print(f\"The Performance of {name} without Scaling::\")\n",
    "    get_prediction(model)\n",
    "    print(\"*\"*50)"
   ]
  },
  {
   "cell_type": "markdown",
   "id": "d39557c1",
   "metadata": {},
   "source": [
    "## Scaling the data "
   ]
  },
  {
   "cell_type": "code",
   "execution_count": 90,
   "id": "2aedbea2",
   "metadata": {},
   "outputs": [],
   "source": [
    "std=StandardScaler()"
   ]
  },
  {
   "cell_type": "code",
   "execution_count": 91,
   "id": "370cc57e",
   "metadata": {},
   "outputs": [],
   "source": [
    "x_train = pd.DataFrame(std.fit_transform(x_train),columns = x_train.columns)\n",
    "x_test = pd.DataFrame(std.fit_transform(x_test),columns = x_test.columns)"
   ]
  },
  {
   "cell_type": "markdown",
   "id": "b88ae581",
   "metadata": {},
   "source": [
    "\n",
    "#### With scalling model performances"
   ]
  },
  {
   "cell_type": "code",
   "execution_count": 92,
   "id": "17e6d112",
   "metadata": {},
   "outputs": [
    {
     "name": "stdout",
     "output_type": "stream",
     "text": [
      "The Performance of Linear Regression with Scaling::\n",
      "At Training: \n",
      "%MAE: 0.4188682917499028\n",
      "R2_Score: 0.9097903808556164\n",
      "    \n",
      "At Testing: \n",
      "%MAE: 0.420011962158593\n",
      "R2_Score: 0.9081204988314605\n",
      "**************************************************\n",
      "The Performance of Decision Tree with Scaling::\n",
      "At Training: \n",
      "%MAE: 0.012365906177322738\n",
      "R2_Score: 0.998754776872001\n",
      "    \n",
      "At Testing: \n",
      "%MAE: 0.13368546095883876\n",
      "R2_Score: 0.9718447272602908\n",
      "**************************************************\n",
      "The Performance of Random Forest with Scaling::\n",
      "At Training: \n",
      "%MAE: 0.04930510894027133\n",
      "R2_Score: 0.9967881327469293\n",
      "    \n",
      "At Testing: \n",
      "%MAE: 0.11905746995176267\n",
      "R2_Score: 0.9826081247947028\n",
      "**************************************************\n"
     ]
    }
   ],
   "source": [
    "lst = [(\"Linear Regression\",LinearRegression()),(\"Decision Tree\",DecisionTreeRegressor()),\n",
    "      (\"Random Forest\",RandomForestRegressor())]\n",
    "for name,model in lst:\n",
    "    print(f\"The Performance of {name} with Scaling::\")\n",
    "    get_prediction(model)\n",
    "    print(\"*\"*50)"
   ]
  },
  {
   "cell_type": "markdown",
   "id": "b184b865",
   "metadata": {},
   "source": [
    "## As we can see that Random Forest has good r2 values at both training and testing as well and also has lowest %mae."
   ]
  },
  {
   "cell_type": "markdown",
   "id": "3fbe65f9",
   "metadata": {},
   "source": [
    "# So,we will go with the Random Forest Model."
   ]
  },
  {
   "cell_type": "code",
   "execution_count": 93,
   "id": "2a9e7292",
   "metadata": {},
   "outputs": [
    {
     "data": {
      "text/plain": [
       "RandomForestRegressor()"
      ]
     },
     "execution_count": 93,
     "metadata": {},
     "output_type": "execute_result"
    }
   ],
   "source": [
    "## Training the model\n",
    "\n",
    "RF=RandomForestRegressor()\n",
    "RF.fit(x_train,y_train)"
   ]
  },
  {
   "cell_type": "code",
   "execution_count": 94,
   "id": "d3722b42",
   "metadata": {},
   "outputs": [
    {
     "data": {
      "text/plain": [
       "array([ 6634.91833333, 55377.        , 61691.72      , ...,\n",
       "       10021.39797619,  6133.        ,  5102.99      ])"
      ]
     },
     "execution_count": 94,
     "metadata": {},
     "output_type": "execute_result"
    }
   ],
   "source": [
    "# Predicting the values\n",
    "y_pred=RF.predict(x_test)\n",
    "y_pred"
   ]
  },
  {
   "cell_type": "code",
   "execution_count": 95,
   "id": "b928182f",
   "metadata": {},
   "outputs": [
    {
     "name": "stdout",
     "output_type": "stream",
     "text": [
      "The Performance of the model::\n",
      "R2_score:0.9825910740202614\n",
      "%MAE:0.1191632689292971\n"
     ]
    }
   ],
   "source": [
    "r2=r2_score(y_test,y_pred)\n",
    "mape=mean_absolute_percentage_error(y_test,y_pred)\n",
    "print(f\"The Performance of the model::\\nR2_score:{r2}\\n%MAE:{mape}\")"
   ]
  },
  {
   "cell_type": "markdown",
   "id": "cb2af7ce",
   "metadata": {},
   "source": [
    "## We can see the goodness of best fit line is 98% which is quite acceptable."
   ]
  },
  {
   "cell_type": "markdown",
   "id": "f4df12c7",
   "metadata": {},
   "source": [
    "### Feature Importance"
   ]
  },
  {
   "cell_type": "code",
   "execution_count": 98,
   "id": "3f01f4f7",
   "metadata": {},
   "outputs": [
    {
     "data": {
      "image/png": "[encoded data removed]",
      "text/plain": [
       "<Figure size 432x288 with 1 Axes>"
      ]
     },
     "metadata": {
      "needs_background": "light"
     },
     "output_type": "display_data"
    }
   ],
   "source": [
    "from sklearn.ensemble import ExtraTreesRegressor\n",
    "model = ExtraTreesRegressor()\n",
    "model.fit(x,y)\n",
    "\n",
    "feat_importances = pd.Series(model.feature_importances_, index=x.columns)\n",
    "feat_importances.nlargest(10).plot(kind='barh')\n",
    "plt.show()"
   ]
  },
  {
   "cell_type": "code",
   "execution_count": 100,
   "id": "fac550b1",
   "metadata": {},
   "outputs": [
    {
     "name": "stdout",
     "output_type": "stream",
     "text": [
      "                   feature  importance\n",
      "3                    class    0.880676\n",
      "1                    stops    0.037645\n",
      "4                 duration    0.025316\n",
      "13         airline_Vistara    0.009902\n",
      "5            Journey_Month    0.007527\n",
      "0           departure_time    0.005955\n",
      "2             arrival_time    0.005560\n",
      "20       source_city_Delhi    0.004068\n",
      "6             Journey_Week    0.003627\n",
      "15  destination_city_Delhi    0.003523\n"
     ]
    }
   ],
   "source": [
    "RF_model = RandomForestRegressor(n_estimators=100, random_state=42)\n",
    "RF_model.fit(x, y)\n",
    "feature_importances = pd.DataFrame({'feature': x.columns, 'importance': RF_model.feature_importances_})\n",
    "feature_importances = feature_importances.sort_values('importance', ascending=False)\n",
    "print(feature_importances.head(10))"
   ]
  },
  {
   "cell_type": "markdown",
   "id": "27c93e49",
   "metadata": {},
   "source": [
    "The most important feature for predicting the target variable (flight price) is \"class,\" which holds the highest importance value of 0.8807."
   ]
  },
  {
   "cell_type": "markdown",
   "id": "035b774b",
   "metadata": {},
   "source": [
    "# Conclusion"
   ]
  },
  {
   "cell_type": "markdown",
   "id": "9bce81e8",
   "metadata": {},
   "source": [
    "Based on the given scores, the Random Forest model performs the best overall, with the highest train and test scores. It also has the lowest MAE values, indicating a better result."
   ]
  },
  {
   "cell_type": "code",
   "execution_count": null,
   "id": "ddc60c47",
   "metadata": {},
   "outputs": [],
   "source": []
  }
 ],
 "metadata": {
  "kernelspec": {
   "display_name": "Python 3 (ipykernel)",
   "language": "python",
   "name": "python3"
  },
  "language_info": {
   "codemirror_mode": {
    "name": "ipython",
    "version": 3
   },
   "file_extension": ".py",
   "mimetype": "text/x-python",
   "name": "python",
   "nbconvert_exporter": "python",
   "pygments_lexer": "ipython3",
   "version": "3.9.7"
  }
 },
 "nbformat": 4,
 "nbformat_minor": 5
}
